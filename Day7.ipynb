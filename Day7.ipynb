{
 "cells": [
  {
   "cell_type": "markdown",
   "id": "49df718e-c308-4470-a3ac-b3272362e10b",
   "metadata": {},
   "source": [
    "# Day-7 ( Strings in Python )"
   ]
  },
  {
   "cell_type": "markdown",
   "id": "cabc5013-285c-408b-a23c-ad8ed4ad9684",
   "metadata": {},
   "source": [
    "#### A string is a data structure in Python that represents a sequence of characters. It is an immutable data type, meaning that once you have created a string, you cannot change it. Strings are used widely in many different applications, such as storing and manipulating text data, representing names, addresses, and other types of data that can be represented as text."
   ]
  },
  {
   "cell_type": "markdown",
   "id": "274492bf-1e7e-4711-8368-da2e0f1bddc2",
   "metadata": {},
   "source": [
    "#### Python string is the collection of the characters surrounded by single quotes, double quotes, or triple quotes. The computer does not understand the characters; internally, it stores manipulated character as the combination of the O's and 1's.\n",
    "#### Each character is encoded in the ASCIl or Unicode character. So we can say that Python strings are also called the collection of Unicode characters.\n",
    "#### In Python, strings can be created by enclosing the character or the sequence of characters in the quotes. Python allows us to use single quotes, double quotes, or triple quotes to create the string."
   ]
  },
  {
   "cell_type": "markdown",
   "id": "4e5b4964-04c3-4d14-a400-a44ac9fcb811",
   "metadata": {},
   "source": [
    "# H  E   L   L   O\n",
    "# ------------------>  Left to Right Indexing\n",
    "# 0  1   2   3    4\n",
    "# <------------------  Right to Left Indexing\n",
    "# -5 -4   -3   -2  -1"
   ]
  },
  {
   "cell_type": "markdown",
   "id": "39daf5c3-3bf7-4024-aa05-77e3dbbb1aba",
   "metadata": {},
   "source": [
    "# Creating Strings in Python"
   ]
  },
  {
   "cell_type": "code",
   "execution_count": 2,
   "id": "13ec3848-c8d6-4d3f-96a4-8bc039490ee8",
   "metadata": {},
   "outputs": [
    {
     "name": "stdout",
     "output_type": "stream",
     "text": [
      "Hello\n"
     ]
    }
   ],
   "source": [
    "a = \"Hello\"\n",
    "print(a)"
   ]
  },
  {
   "cell_type": "code",
   "execution_count": 4,
   "id": "9d69cfeb-8965-47a0-9547-ce68369c29ac",
   "metadata": {},
   "outputs": [
    {
     "name": "stdout",
     "output_type": "stream",
     "text": [
      "We are learning python and this is our Day 7 Class.\n",
      "<class 'str'>\n"
     ]
    }
   ],
   "source": [
    "b = \"We are learning python and this is our Day 7 Class.\"\n",
    "print(b)\n",
    "print(type(b))"
   ]
  },
  {
   "cell_type": "code",
   "execution_count": 5,
   "id": "a73065c2-e827-4de2-86a3-1dcb32b5c5b7",
   "metadata": {},
   "outputs": [
    {
     "name": "stdout",
     "output_type": "stream",
     "text": [
      "Earth is the third planet from the Sun and the only astronomical object known to harbor life. This is enabled by Earth being a water world, the only one in the Solar System sustaining liquid surface water. Almost all of Earth's water is contained in its global ocean, covering 70.8% of Earth's crust. The remaining 29.2% of Earth's crust is land, most of which is located in the form of continental landmasses within one hemisphere, Earth's land hemisphere. Most of Earth's land is somewhat humid and covered by vegetation, while large sheets of ice at Earth's polar deserts retain more water than Earth's groundwater, lakes, rivers and atmospheric water combined. Earth's crust consists of slowly moving tectonic plates, which interact to produce mountain ranges, volcanoes, and earthquakes. Earth has a liquid outer core that generates a magnetosphere capable of deflecting most of the destructive solar winds and cosmic radiation.\n"
     ]
    }
   ],
   "source": [
    "b = \"Earth is the third planet from the Sun and the only astronomical object known to harbor life. This is enabled by Earth being a water world, the only one in the Solar System sustaining liquid surface water. Almost all of Earth's water is contained in its global ocean, covering 70.8% of Earth's crust. The remaining 29.2% of Earth's crust is land, most of which is located in the form of continental landmasses within one hemisphere, Earth's land hemisphere. Most of Earth's land is somewhat humid and covered by vegetation, while large sheets of ice at Earth's polar deserts retain more water than Earth's groundwater, lakes, rivers and atmospheric water combined. Earth's crust consists of slowly moving tectonic plates, which interact to produce mountain ranges, volcanoes, and earthquakes. Earth has a liquid outer core that generates a magnetosphere capable of deflecting most of the destructive solar winds and cosmic radiation.\"\n",
    "print(b)"
   ]
  },
  {
   "cell_type": "markdown",
   "id": "71513169-fdf6-404a-adea-29e4a35b48ca",
   "metadata": {},
   "source": [
    "# To print the paragraph line by line"
   ]
  },
  {
   "cell_type": "code",
   "execution_count": 6,
   "id": "44cf9231-0b01-4a0f-a6d6-27f9e2bb3558",
   "metadata": {},
   "outputs": [
    {
     "name": "stdout",
     "output_type": "stream",
     "text": [
      " Earth is the third planet from the Sun and the only astronomical object known to harbor life. \n",
      "This is enabled by Earth being a water world, the only one in the Solar System sustaining liquid surface water. \n",
      "Almost all of Earth's water is contained in its global ocean, covering 70.8% of Earth's crust.\n",
      "The remaining 29.2% of Earth's crust is land, most of which is located in the form of continental landmasses within one hemisphere, Earth's land hemisphere.\n",
      "Most of Earth's land is somewhat humid and covered by vegetation, while large sheets of ice at Earth's polar deserts retain more water than Earth's groundwater, lakes, rivers and atmospheric water combined. \n",
      "Earth's crust consists of slowly moving tectonic plates, which interact to produce mountain ranges, volcanoes, and earthquakes. Earth has a liquid outer core that generates a magnetosphere capable of deflecting most of the destructive solar winds and cosmic radiation.\n"
     ]
    }
   ],
   "source": [
    "b = \"\"\" Earth is the third planet from the Sun and the only astronomical object known to harbor life. \n",
    "This is enabled by Earth being a water world, the only one in the Solar System sustaining liquid surface water. \n",
    "Almost all of Earth's water is contained in its global ocean, covering 70.8% of Earth's crust.\n",
    "The remaining 29.2% of Earth's crust is land, most of which is located in the form of continental landmasses within one hemisphere, Earth's land hemisphere.\n",
    "Most of Earth's land is somewhat humid and covered by vegetation, while large sheets of ice at Earth's polar deserts retain more water than Earth's groundwater, lakes, rivers and atmospheric water combined. \n",
    "Earth's crust consists of slowly moving tectonic plates, which interact to produce mountain ranges, volcanoes, and earthquakes. Earth has a liquid outer core that generates a magnetosphere capable of deflecting most of the destructive solar winds and cosmic radiation.\"\"\"\n",
    "print(b)\n"
   ]
  },
  {
   "cell_type": "markdown",
   "id": "c8ce6364-5469-4f3d-917c-60031fcad152",
   "metadata": {},
   "source": [
    "# Indexing of Strings"
   ]
  },
  {
   "cell_type": "code",
   "execution_count": 13,
   "id": "ce150109-216f-4da1-b0e3-7be36d6d1fe9",
   "metadata": {},
   "outputs": [
    {
     "name": "stdout",
     "output_type": "stream",
     "text": [
      "n\n"
     ]
    }
   ],
   "source": [
    "a = \"Hello Students\"\n",
    "print(a[11])"
   ]
  },
  {
   "cell_type": "code",
   "execution_count": 10,
   "id": "0758bc40-9aee-4b0d-86e2-5c0ad551d4fd",
   "metadata": {},
   "outputs": [
    {
     "name": "stdout",
     "output_type": "stream",
     "text": [
      "t\n"
     ]
    }
   ],
   "source": [
    "print(a[-2])"
   ]
  },
  {
   "cell_type": "code",
   "execution_count": 11,
   "id": "6a60d168-9660-4075-ba3c-686b1ed4e9e0",
   "metadata": {},
   "outputs": [
    {
     "name": "stdout",
     "output_type": "stream",
     "text": [
      "l\n"
     ]
    }
   ],
   "source": [
    "print(a[-11])"
   ]
  },
  {
   "cell_type": "code",
   "execution_count": 12,
   "id": "80205dd1-3a8a-480c-a38f-8b58398410df",
   "metadata": {},
   "outputs": [
    {
     "name": "stdout",
     "output_type": "stream",
     "text": [
      "H\n"
     ]
    }
   ],
   "source": [
    "print(a[-14])"
   ]
  },
  {
   "cell_type": "markdown",
   "id": "645871d4-12b2-4e61-8ad4-4571e577fad8",
   "metadata": {},
   "source": [
    "# Slicing of Strings"
   ]
  },
  {
   "cell_type": "code",
   "execution_count": 14,
   "id": "875416df-df74-4539-815a-a3753c3db26f",
   "metadata": {},
   "outputs": [
    {
     "name": "stdout",
     "output_type": "stream",
     "text": [
      "Hello\n"
     ]
    }
   ],
   "source": [
    "s = \"Hello Students how are you ?\"\n",
    "print(s[0:5])"
   ]
  },
  {
   "cell_type": "code",
   "execution_count": 15,
   "id": "9cee49f4-4328-4f3b-b781-fb1f0ec478b6",
   "metadata": {},
   "outputs": [
    {
     "name": "stdout",
     "output_type": "stream",
     "text": [
      "Students how\n"
     ]
    }
   ],
   "source": [
    "print(s[6:18])"
   ]
  },
  {
   "cell_type": "code",
   "execution_count": 18,
   "id": "e49f2024-b11b-4e0f-a34e-076346c6654e",
   "metadata": {},
   "outputs": [
    {
     "name": "stdout",
     "output_type": "stream",
     "text": [
      "HloSuet o \n"
     ]
    }
   ],
   "source": [
    "print(s[0:20:2])     # To skip one letter 0 se 20 ke beech mein 1 letter skip krdo."
   ]
  },
  {
   "cell_type": "markdown",
   "id": "83c670e9-171e-48ab-8ca3-f74a6ececefc",
   "metadata": {},
   "source": [
    "# Reverse a String "
   ]
  },
  {
   "cell_type": "code",
   "execution_count": 1,
   "id": "2c44eb6e-6997-47b0-a7ed-57c8dcb0d5dc",
   "metadata": {},
   "outputs": [
    {
     "name": "stdout",
     "output_type": "stream",
     "text": [
      ".unatnahS si eman yM ,iH\n"
     ]
    }
   ],
   "source": [
    "a = \"Hi, My name is Shantanu.\"\n",
    "print(a[::-1])"
   ]
  },
  {
   "cell_type": "markdown",
   "id": "3a71565b-dce7-4a85-92ca-a3abfb736a1f",
   "metadata": {},
   "source": [
    "# Finding length of String"
   ]
  },
  {
   "cell_type": "code",
   "execution_count": 3,
   "id": "b069e072-634a-488f-9904-5114b955283a",
   "metadata": {},
   "outputs": [
    {
     "name": "stdout",
     "output_type": "stream",
     "text": [
      "81\n"
     ]
    }
   ],
   "source": [
    "s = \"Hi, Today I'm having a wonderful day of my life because I got my first Job offer.\"\n",
    "print(len(s))"
   ]
  },
  {
   "cell_type": "markdown",
   "id": "8a20d977-494a-4a91-ae15-5dddaee83ae5",
   "metadata": {},
   "source": [
    "# Upper Method"
   ]
  },
  {
   "cell_type": "code",
   "execution_count": 4,
   "id": "b5d17bf3-0cf0-4176-ac4a-c7528eb3c70e",
   "metadata": {},
   "outputs": [
    {
     "name": "stdout",
     "output_type": "stream",
     "text": [
      "HELLO HOW ARE YOU ?\n"
     ]
    }
   ],
   "source": [
    "a = \"hello how are you ?\"\n",
    "print(a.upper())"
   ]
  },
  {
   "cell_type": "markdown",
   "id": "b1f91ea2-213f-4240-b5a0-c1cce25eb2fb",
   "metadata": {},
   "source": [
    "# Lower Method"
   ]
  },
  {
   "cell_type": "code",
   "execution_count": 5,
   "id": "4008052e-b823-4b84-afd6-d36aa86c29ed",
   "metadata": {},
   "outputs": [
    {
     "name": "stdout",
     "output_type": "stream",
     "text": [
      " hello students \n"
     ]
    }
   ],
   "source": [
    "a = \" HELLO STUDENTS \"\n",
    "print(a.lower())"
   ]
  },
  {
   "cell_type": "markdown",
   "id": "1d368cba-5778-4a1c-8af6-9a4afd8db31a",
   "metadata": {},
   "source": [
    "# Replace Function"
   ]
  },
  {
   "cell_type": "code",
   "execution_count": 6,
   "id": "b0fe1c7a-2ed0-4af0-8c69-009467f6ebdf",
   "metadata": {},
   "outputs": [
    {
     "name": "stdout",
     "output_type": "stream",
     "text": [
      "bye how are you?\n"
     ]
    }
   ],
   "source": [
    "a = \"hello how are you?\"\n",
    "print(a.replace(\"hello\",\"bye\"))"
   ]
  },
  {
   "cell_type": "code",
   "execution_count": 7,
   "id": "907dddff-f108-4cee-8b7c-704b585628cd",
   "metadata": {},
   "outputs": [
    {
     "name": "stdout",
     "output_type": "stream",
     "text": [
      "hellx hxw are yxu?\n"
     ]
    }
   ],
   "source": [
    "print(a.replace(\"o\",\"x\"))"
   ]
  },
  {
   "cell_type": "markdown",
   "id": "da53f38e-5a3b-4d42-b869-5244b38582e7",
   "metadata": {},
   "source": [
    "# Find Method"
   ]
  },
  {
   "cell_type": "code",
   "execution_count": 14,
   "id": "787fc9f6-dbaa-464b-bd37-1aba11ada33b",
   "metadata": {},
   "outputs": [
    {
     "name": "stdout",
     "output_type": "stream",
     "text": [
      "10\n"
     ]
    }
   ],
   "source": [
    "a = \"Python is great\"\n",
    "b = a.find(\"g\")\n",
    "print(b)"
   ]
  },
  {
   "cell_type": "code",
   "execution_count": 15,
   "id": "4f474a41-4dd3-4da9-bd38-534fae46c5fa",
   "metadata": {},
   "outputs": [
    {
     "name": "stdout",
     "output_type": "stream",
     "text": [
      "0\n"
     ]
    }
   ],
   "source": [
    "a = \"Python is great\"\n",
    "b = a.find(\"P\")\n",
    "print(b)"
   ]
  }
 ],
 "metadata": {
  "kernelspec": {
   "display_name": "Python 3 (ipykernel)",
   "language": "python",
   "name": "python3"
  },
  "language_info": {
   "codemirror_mode": {
    "name": "ipython",
    "version": 3
   },
   "file_extension": ".py",
   "mimetype": "text/x-python",
   "name": "python",
   "nbconvert_exporter": "python",
   "pygments_lexer": "ipython3",
   "version": "3.11.4"
  }
 },
 "nbformat": 4,
 "nbformat_minor": 5
}
