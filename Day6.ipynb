{
 "cells": [
  {
   "cell_type": "markdown",
   "id": "e6d29ef8-d0b8-4fa0-95af-24a2bcb53347",
   "metadata": {},
   "source": [
    "# Day-6 ( User defined function )"
   ]
  },
  {
   "cell_type": "markdown",
   "id": "c2a3f09e-c8f0-4f1c-94f5-f32dbc11d5dc",
   "metadata": {},
   "source": [
    "#### Functions that we define ourselves to do certain specific task are referred as user-defined functions. All the functions that are written by any of us comes under the category of user defined functions."
   ]
  },
  {
   "cell_type": "markdown",
   "id": "86970691-1b5e-4930-9cdf-84d78504ee60",
   "metadata": {},
   "source": [
    "## Creating a user-defined function"
   ]
  },
  {
   "cell_type": "code",
   "execution_count": 6,
   "id": "c03267c7-b9f7-47eb-bc22-1c4f8772dd6c",
   "metadata": {},
   "outputs": [],
   "source": [
    "def my_function():\n",
    "    print(\"Hello World\")\n",
    "    print(\"We are learning python\")"
   ]
  },
  {
   "cell_type": "markdown",
   "id": "3570e4ea-b545-442a-a914-43a07ee13f51",
   "metadata": {},
   "source": [
    "## Calling a punction"
   ]
  },
  {
   "cell_type": "code",
   "execution_count": 7,
   "id": "1b25a7ba-ea37-4279-b804-b8dd7719c57d",
   "metadata": {},
   "outputs": [
    {
     "name": "stdout",
     "output_type": "stream",
     "text": [
      "Hello World\n",
      "We are learning python\n"
     ]
    }
   ],
   "source": [
    "my_function()"
   ]
  },
  {
   "cell_type": "markdown",
   "id": "c993de3b-2112-41eb-aa50-192e078c9bd4",
   "metadata": {},
   "source": [
    "## Making the result of a student"
   ]
  },
  {
   "cell_type": "code",
   "execution_count": 9,
   "id": "a99bdc49-5d0c-4884-a322-42d35102a389",
   "metadata": {},
   "outputs": [],
   "source": [
    "def contact():\n",
    "    print(\"Contact details of the school\")\n",
    "    print(\"Delhi Public School\")\n",
    "    print(\"Bangalore karnatka\")\n",
    "    print(\"9897810305\")\n",
    "    print(\"dps.contact@gmail.com\")"
   ]
  },
  {
   "cell_type": "code",
   "execution_count": null,
   "id": "fc23dabe-f8e4-4686-9a42-05eb1801e126",
   "metadata": {},
   "outputs": [
    {
     "name": "stdin",
     "output_type": "stream",
     "text": [
      "Name of the student Shantanu Rana\n",
      "Enter the marks of the maths 89\n",
      "Enter the marks of the science 90\n",
      "Enter the marks of the social 95\n"
     ]
    },
    {
     "name": "stdout",
     "output_type": "stream",
     "text": [
      "\n",
      "Contact details of the school\n",
      "Delhi Public School\n",
      "Bangalore karnatka\n",
      "9897810305\n",
      "dps.contact@gmail.com\n"
     ]
    },
    {
     "name": "stdin",
     "output_type": "stream",
     "text": [
      "Name of the student Rani\n",
      "Enter the marks of the maths 87\n",
      "Enter the marks of the science 86\n",
      "Enter the marks of the social 90\n"
     ]
    },
    {
     "name": "stdout",
     "output_type": "stream",
     "text": [
      "\n",
      "Contact details of the school\n",
      "Delhi Public School\n",
      "Bangalore karnatka\n",
      "9897810305\n",
      "dps.contact@gmail.com\n"
     ]
    }
   ],
   "source": [
    "for i in range(4):\n",
    "    a= input(\"Name of the student\")\n",
    "    b= int(input(\"Enter the marks of the maths\"))\n",
    "    c= int(input(\"Enter the marks of the science\"))\n",
    "    d= int(input(\"Enter the marks of the social\"))\n",
    "    print()\n",
    "    contact()"
   ]
  },
  {
   "cell_type": "markdown",
   "id": "b0e3ea91-0834-4b39-819d-90d87783db25",
   "metadata": {},
   "source": [
    "# Arguments"
   ]
  },
  {
   "cell_type": "code",
   "execution_count": 4,
   "id": "5d061faf-a1b0-4d09-8ab0-237121b35ae0",
   "metadata": {},
   "outputs": [],
   "source": [
    "def my_function(fname):\n",
    "    print(fname + \" Sharma\")"
   ]
  },
  {
   "cell_type": "code",
   "execution_count": 6,
   "id": "babfae90-a118-4ed6-aa83-38c58d1fa684",
   "metadata": {},
   "outputs": [
    {
     "name": "stdout",
     "output_type": "stream",
     "text": [
      "Pooja Sharma\n",
      "Priya Sharma\n"
     ]
    }
   ],
   "source": [
    "my_function(\"Pooja\")\n",
    "my_function(\"Priya\")"
   ]
  },
  {
   "cell_type": "code",
   "execution_count": 7,
   "id": "8f649d0d-3a4b-4c86-88c8-b23bc48c4485",
   "metadata": {},
   "outputs": [],
   "source": [
    "def my_function(fname,lname):\n",
    "    print(fname + \" \"+ lname)"
   ]
  },
  {
   "cell_type": "code",
   "execution_count": 8,
   "id": "b701f738-82f6-45bb-9a64-277a841e7064",
   "metadata": {},
   "outputs": [
    {
     "name": "stdout",
     "output_type": "stream",
     "text": [
      "Shreya Verma\n"
     ]
    }
   ],
   "source": [
    "my_function(\"Shreya\",\"Verma\")"
   ]
  },
  {
   "cell_type": "code",
   "execution_count": null,
   "id": "7f95b6ba-d2fb-43ee-b033-eb14809e45ea",
   "metadata": {},
   "outputs": [],
   "source": [
    "# Write a program to calculate the electricity bill\n",
    "\n",
    "if 500 unit used - pay Rs 5 for each unit\n",
    "if 700 unit used - pay Rs 10 for each unit\n",
    "if 1000 unit used - pay Rs 15 for each unit\n",
    "if more than 1000 unit used - Pay Rs 20 for each unit"
   ]
  },
  {
   "cell_type": "code",
   "execution_count": 2,
   "id": "6a7e947a-1cf0-4bc9-b550-da41b16c5993",
   "metadata": {},
   "outputs": [],
   "source": [
    "def electricity_bill(n):\n",
    "    if n<=500:\n",
    "        print(\"Your bill is RS\",n*5)\n",
    "    elif n>500 and n<=700:\n",
    "        print(\"your bill is RS\",n*10)\n",
    "    elif n>700 and n<=1000:\n",
    "        print(\"your bill is RS\",n*15)\n",
    "    elif n>1000:\n",
    "        print(\"your bill is RS\",n*20)"
   ]
  },
  {
   "cell_type": "code",
   "execution_count": 5,
   "id": "357fb3a9-e699-4ac8-8d9c-d731c0a65ded",
   "metadata": {},
   "outputs": [
    {
     "name": "stdin",
     "output_type": "stream",
     "text": [
      "Enter the name of the customer Shantanu\n",
      "Enter the unit of electricity you have used 670\n"
     ]
    },
    {
     "name": "stdout",
     "output_type": "stream",
     "text": [
      "your bill is RS 6700\n"
     ]
    },
    {
     "name": "stdin",
     "output_type": "stream",
     "text": [
      "Enter the name of the customer Anjali\n",
      "Enter the unit of electricity you have used 600\n"
     ]
    },
    {
     "name": "stdout",
     "output_type": "stream",
     "text": [
      "your bill is RS 6000\n"
     ]
    },
    {
     "name": "stdin",
     "output_type": "stream",
     "text": [
      "Enter the name of the customer Lalita\n",
      "Enter the unit of electricity you have used 550\n"
     ]
    },
    {
     "name": "stdout",
     "output_type": "stream",
     "text": [
      "your bill is RS 5500\n"
     ]
    }
   ],
   "source": [
    "for i in range(3):\n",
    "    a = input(\"Enter the name of the customer\")\n",
    "    n = int(input(\"Enter the unit of electricity you have used\"))\n",
    "    electricity_bill(n)"
   ]
  },
  {
   "cell_type": "code",
   "execution_count": 7,
   "id": "e1f376c3-2b6b-48a5-ac3f-1d2f5e010483",
   "metadata": {},
   "outputs": [],
   "source": [
    "def instructions():\n",
    "    print(\"Last date of paying bill is 20 April\")\n",
    "    print(\"After 20 April you need to pay 1000 RS as a fine\")\n",
    "    print(\"Electricity office New Delhi\")"
   ]
  },
  {
   "cell_type": "code",
   "execution_count": 8,
   "id": "089b91e5-7494-4069-ac4d-5650ff208c0c",
   "metadata": {
    "scrolled": true
   },
   "outputs": [
    {
     "name": "stdin",
     "output_type": "stream",
     "text": [
      "Enter the name of the customer Suraj\n",
      "Enter the unit of electricity you have used 456\n"
     ]
    },
    {
     "name": "stdout",
     "output_type": "stream",
     "text": [
      "Your bill is RS 2280\n",
      "\n",
      "Last date of paying bill is 20 April\n",
      "After 20 April you need to pay 1000 RS as a fine\n",
      "Electricity office New Delhi\n"
     ]
    },
    {
     "name": "stdin",
     "output_type": "stream",
     "text": [
      "Enter the name of the customer Pradip \n",
      "Enter the unit of electricity you have used 340\n"
     ]
    },
    {
     "name": "stdout",
     "output_type": "stream",
     "text": [
      "Your bill is RS 1700\n",
      "\n",
      "Last date of paying bill is 20 April\n",
      "After 20 April you need to pay 1000 RS as a fine\n",
      "Electricity office New Delhi\n"
     ]
    },
    {
     "name": "stdin",
     "output_type": "stream",
     "text": [
      "Enter the name of the customer Rana\n",
      "Enter the unit of electricity you have used 670\n"
     ]
    },
    {
     "name": "stdout",
     "output_type": "stream",
     "text": [
      "your bill is RS 6700\n",
      "\n",
      "Last date of paying bill is 20 April\n",
      "After 20 April you need to pay 1000 RS as a fine\n",
      "Electricity office New Delhi\n"
     ]
    }
   ],
   "source": [
    "for i in range(3):\n",
    "    a = input(\"Enter the name of the customer\")\n",
    "    n = int(input(\"Enter the unit of electricity you have used\"))\n",
    "    electricity_bill(n)\n",
    "    print()\n",
    "    instructions()"
   ]
  }
 ],
 "metadata": {
  "kernelspec": {
   "display_name": "Python 3 (ipykernel)",
   "language": "python",
   "name": "python3"
  },
  "language_info": {
   "codemirror_mode": {
    "name": "ipython",
    "version": 3
   },
   "file_extension": ".py",
   "mimetype": "text/x-python",
   "name": "python",
   "nbconvert_exporter": "python",
   "pygments_lexer": "ipython3",
   "version": "3.11.4"
  }
 },
 "nbformat": 4,
 "nbformat_minor": 5
}
