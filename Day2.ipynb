{
 "cells": [
  {
   "cell_type": "markdown",
   "id": "7b604032-8a28-4a2f-ad1d-76d7e0006b33",
   "metadata": {},
   "source": [
    "# DAY - 2 ( Variables & Operators )"
   ]
  },
  {
   "cell_type": "markdown",
   "id": "f7eb94f5-d9b3-411a-b56a-f80f43c510cb",
   "metadata": {},
   "source": [
    "# Variables"
   ]
  },
  {
   "cell_type": "markdown",
   "id": "2600240d-b2ea-4a35-915d-fc807a2016eb",
   "metadata": {},
   "source": [
    "#### Python Variable is containers that store values. Python is not \"statically typed\". We do not need to declare variables before using them or declare their type. A variable is created the moment we first assign a value to it. A Python variable is a name given to a memory location. It is the basic unit of storage in a program."
   ]
  },
  {
   "cell_type": "markdown",
   "id": "584469e2-dd89-4426-bfa6-51269bdd095d",
   "metadata": {},
   "source": [
    "# Variable Names"
   ]
  },
  {
   "cell_type": "markdown",
   "id": "7e1f9e21-a5f9-41aa-b4e2-62d380fd49bd",
   "metadata": {},
   "source": [
    "#### • A variable can have a short name (like x and y) or a more descriptive name (age, carname, total_volume). Rules for Python variables:\n",
    "#### • A variable name cannot start with a number\n",
    "#### • A variable name can only contain alpha-numeric characters and underscores (A-z, 0-9, and _ )\n",
    "#### • Variable names are case-sensitive (age, Age and AGE are three different variables)\n",
    "#### • A variable name cannot be any of the Python keywords. "
   ]
  },
  {
   "cell_type": "code",
   "execution_count": 2,
   "id": "d40fdd4d-280a-4788-8675-785df4d5d15d",
   "metadata": {},
   "outputs": [
    {
     "name": "stdout",
     "output_type": "stream",
     "text": [
      "1\n"
     ]
    }
   ],
   "source": [
    "a = 1\n",
    "print(a)"
   ]
  },
  {
   "cell_type": "code",
   "execution_count": 3,
   "id": "42079bac-7f3c-4987-b16b-f9326088b1c4",
   "metadata": {},
   "outputs": [
    {
     "name": "stdout",
     "output_type": "stream",
     "text": [
      "2 2.3\n"
     ]
    }
   ],
   "source": [
    "b = 2\n",
    "c = 2.3\n",
    "print(b,c)"
   ]
  },
  {
   "cell_type": "code",
   "execution_count": 5,
   "id": "c4133f02-cc98-4c68-a691-73ba684cdecf",
   "metadata": {},
   "outputs": [
    {
     "name": "stdout",
     "output_type": "stream",
     "text": [
      "apple\n"
     ]
    }
   ],
   "source": [
    "x = \"apple\"\n",
    "print(x)"
   ]
  },
  {
   "cell_type": "code",
   "execution_count": 6,
   "id": "d1b29d2d-e2b4-45a3-b2f6-d424445dec0d",
   "metadata": {},
   "outputs": [
    {
     "name": "stdout",
     "output_type": "stream",
     "text": [
      "23\n"
     ]
    }
   ],
   "source": [
    "student = 23\n",
    "print(student)"
   ]
  },
  {
   "cell_type": "code",
   "execution_count": 8,
   "id": "fdadd13d-5b21-4771-98eb-9dc5885fc960",
   "metadata": {},
   "outputs": [
    {
     "name": "stdout",
     "output_type": "stream",
     "text": [
      "25\n"
     ]
    }
   ],
   "source": [
    "student123 = 25\n",
    "print(student123)"
   ]
  },
  {
   "cell_type": "code",
   "execution_count": 9,
   "id": "33045549-1d20-4635-9ec3-65bd2e77c598",
   "metadata": {},
   "outputs": [
    {
     "name": "stdout",
     "output_type": "stream",
     "text": [
      "5\n"
     ]
    }
   ],
   "source": [
    "_a= 5\n",
    "print(_a)"
   ]
  },
  {
   "cell_type": "markdown",
   "id": "53fafd86-8c51-405a-9158-f295655bd6af",
   "metadata": {},
   "source": [
    "# Many values to multiple variables"
   ]
  },
  {
   "cell_type": "code",
   "execution_count": 11,
   "id": "61d8bca8-672f-40e9-a16e-5deb2f71f5cd",
   "metadata": {},
   "outputs": [
    {
     "name": "stdout",
     "output_type": "stream",
     "text": [
      "orange banana cherry\n"
     ]
    }
   ],
   "source": [
    "x,y,z = \"orange\" , \"banana\" , \"cherry\"\n",
    "print(x,y,z)"
   ]
  },
  {
   "cell_type": "code",
   "execution_count": 12,
   "id": "5b9ff360-226f-45c2-9027-6d4fb241fb4d",
   "metadata": {},
   "outputs": [
    {
     "name": "stdout",
     "output_type": "stream",
     "text": [
      "orange\n",
      "orange\n",
      "orange\n"
     ]
    }
   ],
   "source": [
    "x,y,z = \"orange\" , \"orange\" , \"orange\"\n",
    "print(x)\n",
    "print(y)\n",
    "print(z)"
   ]
  },
  {
   "cell_type": "markdown",
   "id": "39eead42-6180-4965-90f5-ae4c054d5ebb",
   "metadata": {},
   "source": [
    "# Python Output Variables"
   ]
  },
  {
   "cell_type": "code",
   "execution_count": 14,
   "id": "a791b7e3-4497-4c0c-8eeb-3ed19e935e25",
   "metadata": {},
   "outputs": [
    {
     "name": "stdout",
     "output_type": "stream",
     "text": [
      "Python is amazing\n",
      "\n",
      "Python\n",
      "is\n",
      "amazing\n"
     ]
    }
   ],
   "source": [
    "x= \"Python\"\n",
    "y= \"is\"\n",
    "z= \"amazing\"\n",
    "print(x,y,z)\n",
    "\n",
    "print()\n",
    "\n",
    "print(x)\n",
    "print(y)\n",
    "print(z)"
   ]
  },
  {
   "cell_type": "markdown",
   "id": "74107fc3-75a7-4853-9c9c-c3aa540d4d4c",
   "metadata": {},
   "source": [
    "# Data Types"
   ]
  },
  {
   "cell_type": "raw",
   "id": "eff78791-8b90-4fa2-af5e-707ed260071a",
   "metadata": {},
   "source": [
    " Variables can store data of different types, and different types can do different\n",
    " Python has the following data types built-in by default, in these categories :\n",
    "\n",
    " • Text Type      : str\n",
    " • Numeric Types  : int , float , complex\n",
    " • Sequence Types : list, tuple , range\n",
    " • Mapping Type   : dict\n",
    " • Set Types      : set, frozenset\n",
    " • Boolean Type   : bool\n",
    " • Binary Types   : bytes, bytearray , memoryview"
   ]
  },
  {
   "cell_type": "code",
   "execution_count": 15,
   "id": "e57f83bc-9f8f-4c85-8ecb-2bec41c1094c",
   "metadata": {},
   "outputs": [
    {
     "name": "stdout",
     "output_type": "stream",
     "text": [
      "2\n",
      "<class 'int'>\n"
     ]
    }
   ],
   "source": [
    "x = 2\n",
    "print (x)\n",
    "print(type(x))"
   ]
  },
  {
   "cell_type": "code",
   "execution_count": 16,
   "id": "d581221f-b7a6-4b28-befc-a9af1ad9d020",
   "metadata": {},
   "outputs": [
    {
     "name": "stdout",
     "output_type": "stream",
     "text": [
      "4.5\n",
      "<class 'float'>\n"
     ]
    }
   ],
   "source": [
    "y = 4.5\n",
    "print(y)\n",
    "print(type(y))"
   ]
  },
  {
   "cell_type": "code",
   "execution_count": 17,
   "id": "4d852aa6-2500-4904-a446-71565cc04f58",
   "metadata": {},
   "outputs": [
    {
     "name": "stdout",
     "output_type": "stream",
     "text": [
      "(2+5j)\n",
      "<class 'complex'>\n"
     ]
    }
   ],
   "source": [
    "z= 2+5j\n",
    "print(z)\n",
    "print(type(z))"
   ]
  },
  {
   "cell_type": "code",
   "execution_count": 18,
   "id": "a04887d1-c309-4a7d-90d2-5095736be652",
   "metadata": {},
   "outputs": [
    {
     "name": "stdout",
     "output_type": "stream",
     "text": [
      "This is the day 2 of python class \n",
      "<class 'str'>\n"
     ]
    }
   ],
   "source": [
    "a = \"This is the day 2 of python class \"\n",
    "print(a)\n",
    "print(type(a))"
   ]
  },
  {
   "cell_type": "code",
   "execution_count": 19,
   "id": "387c0c52-522a-4da3-8e25-5bee41834c3f",
   "metadata": {},
   "outputs": [
    {
     "name": "stdout",
     "output_type": "stream",
     "text": [
      "[1, 2, 3, 4, 5, 6, 7, 8, 9, 10]\n",
      "<class 'list'>\n"
     ]
    }
   ],
   "source": [
    "b = [1,2,3,4,5,6,7,8,9,10]\n",
    "print(b)\n",
    "print(type(b))"
   ]
  },
  {
   "cell_type": "code",
   "execution_count": 20,
   "id": "a6c543e6-5ff6-431f-933e-3da87eac4cfb",
   "metadata": {},
   "outputs": [
    {
     "name": "stdout",
     "output_type": "stream",
     "text": [
      "(1, 2, 3, 4, 5, 6, 7, 8, 9, 10)\n",
      "<class 'tuple'>\n"
     ]
    }
   ],
   "source": [
    "c = (1,2,3,4,5,6,7,8,9,10)\n",
    "print(c)\n",
    "print(type(c))"
   ]
  },
  {
   "cell_type": "markdown",
   "id": "158cd499-d022-47c3-b716-8e3ee6caa358",
   "metadata": {},
   "source": [
    "#### %whos = It will show all the variables that we have created in jupyter notebook."
   ]
  },
  {
   "cell_type": "code",
   "execution_count": 26,
   "id": "14c22518-f514-48cc-84fc-c73d6b0fabc1",
   "metadata": {
    "scrolled": true
   },
   "outputs": [
    {
     "name": "stdout",
     "output_type": "stream",
     "text": [
      "Variable     Type       Data/Info\n",
      "---------------------------------\n",
      "a            int        12\n",
      "b            list       n=10\n",
      "c            tuple      n=10\n",
      "student      int        23\n",
      "student123   int        25\n",
      "x            int        2\n",
      "y            float      4.5\n",
      "z            complex    (2+5j)\n"
     ]
    }
   ],
   "source": [
    "%whos "
   ]
  },
  {
   "cell_type": "markdown",
   "id": "09a4c395-2b56-429b-a910-47e29eeb5fe2",
   "metadata": {
    "scrolled": true
   },
   "source": [
    "# Operators in Python"
   ]
  },
  {
   "cell_type": "markdown",
   "id": "a1356c42-8e29-4d0d-bb47-0df0f812f0b2",
   "metadata": {},
   "source": [
    "#### In Python programming, Operators in general are used to perform operations on values and variables. These are standard symbols used for the purpose of logical and arithmetic operations. In this article, we will look into different types of Python operators.\n",
    "#### OPERATORS: These are the special symbols. Eg-+,*,/,etc.\n",
    "#### OPERAND: It is the value on which the operator is applied."
   ]
  },
  {
   "cell_type": "markdown",
   "id": "28a0aede-aa6e-463b-a35e-365d46911e70",
   "metadata": {},
   "source": [
    "# Types of Operator in Python"
   ]
  },
  {
   "cell_type": "markdown",
   "id": "c07956c3-fb96-47c3-a72c-36a0853fe2e1",
   "metadata": {},
   "source": [
    "#### 1. Arithmetic Operators\n",
    "#### 2. Comparison Operators\n",
    "#### 3. Logical Operators\n",
    "#### 4. Bitwise Operators\n",
    "#### 5. Assignment Operators\n",
    "#### 6. Identity Operators \n",
    "#### 7. Membership Operators"
   ]
  },
  {
   "cell_type": "markdown",
   "id": "d6aa0c03-3205-4269-a5a0-a8ba9224629c",
   "metadata": {},
   "source": [
    "# 1. Arithmetic Operators"
   ]
  },
  {
   "cell_type": "markdown",
   "id": "37ab5710-856e-42e0-9b29-cb0b0599b31b",
   "metadata": {},
   "source": [
    "# Addition"
   ]
  },
  {
   "cell_type": "code",
   "execution_count": 29,
   "id": "60374dfb-f8ab-4393-9262-1fa90d161869",
   "metadata": {},
   "outputs": [
    {
     "name": "stdout",
     "output_type": "stream",
     "text": [
      "8\n"
     ]
    }
   ],
   "source": [
    "a = 5\n",
    "b = 3\n",
    "print(a+b)"
   ]
  },
  {
   "cell_type": "code",
   "execution_count": 30,
   "id": "728a7b16-1491-4919-8d99-695a13730876",
   "metadata": {},
   "outputs": [
    {
     "name": "stdout",
     "output_type": "stream",
     "text": [
      "7.3\n"
     ]
    }
   ],
   "source": [
    "a = 5\n",
    "b = 2.3\n",
    "print(a+b)"
   ]
  },
  {
   "cell_type": "code",
   "execution_count": 31,
   "id": "093e954a-b735-459c-b484-b8c8c78a4c68",
   "metadata": {},
   "outputs": [
    {
     "name": "stdout",
     "output_type": "stream",
     "text": [
      "(9+2j)\n"
     ]
    }
   ],
   "source": [
    "a = 5 + 2j\n",
    "b = 4\n",
    "print(a+b)"
   ]
  },
  {
   "cell_type": "code",
   "execution_count": 34,
   "id": "16ec7fd1-2a0d-48f0-abd8-f9339100b4d7",
   "metadata": {},
   "outputs": [
    {
     "name": "stdout",
     "output_type": "stream",
     "text": [
      "Hello Students\n"
     ]
    }
   ],
   "source": [
    "a = \"Hello\"\n",
    "b = \" Students\"\n",
    "print(a+b)"
   ]
  },
  {
   "cell_type": "markdown",
   "id": "c6a6b9ab-3b72-4cd3-95f1-85444829ee71",
   "metadata": {},
   "source": [
    "# Subtraction"
   ]
  },
  {
   "cell_type": "code",
   "execution_count": 35,
   "id": "f9c167d4-dfc6-4752-ba69-584179d4671d",
   "metadata": {},
   "outputs": [
    {
     "name": "stdout",
     "output_type": "stream",
     "text": [
      "9\n"
     ]
    }
   ],
   "source": [
    "a = 15 \n",
    "b = 6\n",
    "print(a - b)"
   ]
  },
  {
   "cell_type": "code",
   "execution_count": 36,
   "id": "5706d65f-8b39-4d27-bef5-06973691bee6",
   "metadata": {},
   "outputs": [
    {
     "name": "stdout",
     "output_type": "stream",
     "text": [
      "-1.3620963000000001\n"
     ]
    }
   ],
   "source": [
    "a = 5.8965\n",
    "b = 7.2585963\n",
    "\n",
    "print(a - b )"
   ]
  },
  {
   "cell_type": "code",
   "execution_count": 37,
   "id": "43a885cf-4bae-4af3-9b2c-6fcc0907cb6a",
   "metadata": {},
   "outputs": [
    {
     "name": "stdout",
     "output_type": "stream",
     "text": [
      "(2+6j)\n"
     ]
    }
   ],
   "source": [
    "a = 5+6j\n",
    "b = 3\n",
    "print(a-b)"
   ]
  },
  {
   "cell_type": "markdown",
   "id": "25424380-144f-4e5f-a24d-988d65f7208b",
   "metadata": {},
   "source": [
    "# Multiplication"
   ]
  },
  {
   "cell_type": "code",
   "execution_count": 38,
   "id": "1ab9763b-ec54-4d27-8694-20c2c9fb91a4",
   "metadata": {},
   "outputs": [
    {
     "name": "stdout",
     "output_type": "stream",
     "text": [
      "840\n"
     ]
    }
   ],
   "source": [
    "a = 15\n",
    "b = 56\n",
    "print(a*b)"
   ]
  },
  {
   "cell_type": "code",
   "execution_count": 39,
   "id": "e7e2e1f7-6f0a-4ed5-99c9-51c2d7f1d68e",
   "metadata": {},
   "outputs": [
    {
     "name": "stdout",
     "output_type": "stream",
     "text": [
      "469.66290448\n"
     ]
    }
   ],
   "source": [
    "a = 5.689\n",
    "b = 82.55632\n",
    "print(a*b)"
   ]
  },
  {
   "cell_type": "markdown",
   "id": "e8fe8008-7fcb-41e3-86b4-5b095217879f",
   "metadata": {},
   "source": [
    "# Division"
   ]
  },
  {
   "cell_type": "code",
   "execution_count": 41,
   "id": "dc53bbca-d813-459c-926c-d1b939500060",
   "metadata": {},
   "outputs": [
    {
     "name": "stdout",
     "output_type": "stream",
     "text": [
      "2.0\n"
     ]
    }
   ],
   "source": [
    "a = 10\n",
    "b = 5\n",
    "print(a/b)"
   ]
  },
  {
   "cell_type": "markdown",
   "id": "d2205f17-d12d-4f72-b4cd-67773b91cdaa",
   "metadata": {},
   "source": [
    "# Modulous"
   ]
  },
  {
   "cell_type": "code",
   "execution_count": 42,
   "id": "19512562-51f6-4e22-b186-729081534ae9",
   "metadata": {},
   "outputs": [
    {
     "name": "stdout",
     "output_type": "stream",
     "text": [
      "1\n"
     ]
    }
   ],
   "source": [
    "a = 19\n",
    "b = 3\n",
    "print(a%b)"
   ]
  },
  {
   "cell_type": "code",
   "execution_count": 43,
   "id": "c517bbfa-a50b-410d-a8e2-62c77f630713",
   "metadata": {},
   "outputs": [
    {
     "name": "stdout",
     "output_type": "stream",
     "text": [
      "0\n"
     ]
    }
   ],
   "source": [
    "a = 12\n",
    "b = 4\n",
    "print(a%b)"
   ]
  },
  {
   "cell_type": "markdown",
   "id": "a28546d9-f5eb-4061-90dd-1dc629745b5f",
   "metadata": {},
   "source": [
    "# Exponent"
   ]
  },
  {
   "cell_type": "code",
   "execution_count": 45,
   "id": "d3ee01ff-3c20-4cc6-aa83-b81fe139b0e9",
   "metadata": {},
   "outputs": [
    {
     "name": "stdout",
     "output_type": "stream",
     "text": [
      "71162028433520217717099884851404495326786614148274137562533191244754226421072922193229393035406290047490322006127486170528820460414671897074184746917638236810663780872933871199771053029074871072046645088603300420278272474373361352870797685329285463690039885441075398107839063255747535400015566353549647882767414182717586010912021318113386679928289227315380064286145450539958069165193638416244911434618495833200180049949\n"
     ]
    }
   ],
   "source": [
    "a = 41256789\n",
    "print(a**55)"
   ]
  },
  {
   "cell_type": "code",
   "execution_count": 48,
   "id": "e3e3902d-4b88-4535-91d2-e591a992da02",
   "metadata": {},
   "outputs": [
    {
     "name": "stdout",
     "output_type": "stream",
     "text": [
      "2.990489165920469e+196\n"
     ]
    }
   ],
   "source": [
    "a = ((859*78)+(78.256/89)+(856**67)+(145698-7526))\n",
    "print(a)"
   ]
  },
  {
   "cell_type": "markdown",
   "id": "15064ff2-18fd-4a48-a9f2-5a95f04d5df0",
   "metadata": {},
   "source": [
    "# 2. Logical Operators"
   ]
  },
  {
   "cell_type": "markdown",
   "id": "70d4631f-ba56-4610-8154-05ff993a545f",
   "metadata": {},
   "source": [
    "# AND "
   ]
  },
  {
   "cell_type": "code",
   "execution_count": 50,
   "id": "d5dce961-063b-441e-a20a-737ee493b18c",
   "metadata": {},
   "outputs": [
    {
     "name": "stdout",
     "output_type": "stream",
     "text": [
      "False\n"
     ]
    }
   ],
   "source": [
    "a = True\n",
    "b = False\n",
    "print(a and b)"
   ]
  },
  {
   "cell_type": "code",
   "execution_count": 51,
   "id": "bbe432c0-e023-470e-a885-43be1c4629a5",
   "metadata": {},
   "outputs": [
    {
     "name": "stdout",
     "output_type": "stream",
     "text": [
      "True\n"
     ]
    }
   ],
   "source": [
    "a = True\n",
    "b = True\n",
    "print(a and b)"
   ]
  },
  {
   "cell_type": "code",
   "execution_count": 54,
   "id": "c9df0634-9170-403d-b08c-3de5e1c9e56b",
   "metadata": {},
   "outputs": [
    {
     "name": "stdout",
     "output_type": "stream",
     "text": [
      "False\n"
     ]
    }
   ],
   "source": [
    "a = False\n",
    "b = False\n",
    "print(a and b)"
   ]
  },
  {
   "cell_type": "markdown",
   "id": "03cf3c4d-8603-475e-b792-990d198b09ac",
   "metadata": {},
   "source": [
    "# OR"
   ]
  },
  {
   "cell_type": "code",
   "execution_count": 52,
   "id": "827f6dc7-52a1-4cf2-b3a5-939bbe45cc24",
   "metadata": {},
   "outputs": [
    {
     "name": "stdout",
     "output_type": "stream",
     "text": [
      "True\n"
     ]
    }
   ],
   "source": [
    "a = True\n",
    "b = False\n",
    "print(a or b)"
   ]
  },
  {
   "cell_type": "code",
   "execution_count": 53,
   "id": "6799dcc9-b12a-4516-a97f-6344279ca392",
   "metadata": {},
   "outputs": [
    {
     "name": "stdout",
     "output_type": "stream",
     "text": [
      "True\n"
     ]
    }
   ],
   "source": [
    "a = True\n",
    "b = True\n",
    "print(a or b)"
   ]
  },
  {
   "cell_type": "code",
   "execution_count": 55,
   "id": "89008128-7713-4c72-9f0f-9c2b937bdc83",
   "metadata": {},
   "outputs": [
    {
     "name": "stdout",
     "output_type": "stream",
     "text": [
      "False\n"
     ]
    }
   ],
   "source": [
    "a = False\n",
    "b = False\n",
    "print(a or b)"
   ]
  },
  {
   "cell_type": "markdown",
   "id": "0ce598fd-19c0-43b7-9999-2ba449cbb099",
   "metadata": {},
   "source": [
    "# NOT"
   ]
  },
  {
   "cell_type": "code",
   "execution_count": 57,
   "id": "3fbbc5b9-22ef-4e9e-a8d6-ee41e07b3efd",
   "metadata": {},
   "outputs": [
    {
     "name": "stdout",
     "output_type": "stream",
     "text": [
      "False\n",
      "True\n"
     ]
    }
   ],
   "source": [
    "a = True\n",
    "b = False\n",
    "print(not(a))\n",
    "print(not(b))\n"
   ]
  },
  {
   "cell_type": "markdown",
   "id": "78702d1e-2713-4ec2-926d-ad6c13e86550",
   "metadata": {},
   "source": [
    "# 3. Bitwise Operators"
   ]
  },
  {
   "cell_type": "markdown",
   "id": "c7825450-4c67-479a-b666-d6aa4bc1c692",
   "metadata": {},
   "source": [
    "#### AND Operator (&): Performs a bitwise AND operation, where the bits of the result are set to 1 only if the corresponding bits of both operands are 1."
   ]
  },
  {
   "cell_type": "code",
   "execution_count": 61,
   "id": "43d3449a-4308-40f0-988a-decdf0a52a53",
   "metadata": {},
   "outputs": [
    {
     "name": "stdout",
     "output_type": "stream",
     "text": [
      "1\n"
     ]
    }
   ],
   "source": [
    "a = 5 # binary 101\n",
    "b = 3 # binary 011\n",
    "print(a & b) #5 & 3 (binary 101 & 011 gives 001, which is 1 in decimal)"
   ]
  },
  {
   "cell_type": "markdown",
   "id": "a69cb5b0-5acc-4ef8-bcf4-dd06a84cb3b7",
   "metadata": {},
   "source": [
    "#### OR Operator (|): Performs a bitwise OR operation, where the bits of the result are set to 1 if either of the corresponding bits of the operands is 1."
   ]
  },
  {
   "cell_type": "code",
   "execution_count": 62,
   "id": "049ab269-0568-48a8-865e-adb363624a78",
   "metadata": {},
   "outputs": [
    {
     "name": "stdout",
     "output_type": "stream",
     "text": [
      "7\n"
     ]
    }
   ],
   "source": [
    "print(a | b ) #5 | 3 (binary 101 | 011 gives 111, which is 7 in decimal)"
   ]
  },
  {
   "cell_type": "markdown",
   "id": "ae430d8c-a6d9-4c97-9f9d-14bc263a7b5a",
   "metadata": {},
   "source": [
    "#### XOR Operator (^): Performs a bitwise XOR operation, where the bits of the result are set to 1 only if the corresponding bits of the operands are different."
   ]
  },
  {
   "cell_type": "code",
   "execution_count": 63,
   "id": "504f04fd-3127-4e63-a33f-34ca52a30c82",
   "metadata": {},
   "outputs": [
    {
     "name": "stdout",
     "output_type": "stream",
     "text": [
      "6\n"
     ]
    }
   ],
   "source": [
    "print(a ^ b) #Example: 5 ^ 3 (binary 101 ^ 011 gives 110, which is 6 in decimal)"
   ]
  },
  {
   "cell_type": "markdown",
   "id": "5dc0a02f-1504-444c-b92c-8fae51efd991",
   "metadata": {},
   "source": [
    "#### NOT Operator (~): Performs a bitwise NOT operation, where it inverts all the bits of the operand. Note that Python uses a signed binary representation, so the result may appear different due to the way negative numbers are represented."
   ]
  },
  {
   "cell_type": "code",
   "execution_count": 70,
   "id": "39064b8d-5247-4a96-868c-38cc3b3cd462",
   "metadata": {},
   "outputs": [
    {
     "name": "stdout",
     "output_type": "stream",
     "text": [
      "-6\n"
     ]
    }
   ],
   "source": [
    "print(~a) #Example: ~5 (binary ~101 gives ...11111010, which is -6 in decimal in a 32-bit representation)"
   ]
  },
  {
   "cell_type": "markdown",
   "id": "79608295-3241-41c7-a514-2c366a0856da",
   "metadata": {},
   "source": [
    "#### Left Shift Operator (<<): Shifts the bits of the first operand to the left by the number of positions specified by the second operand. New bits on the right are filled with zeros."
   ]
  },
  {
   "cell_type": "code",
   "execution_count": 67,
   "id": "8eda6729-e4dc-4c54-aa02-f318a99565cd",
   "metadata": {},
   "outputs": [
    {
     "name": "stdout",
     "output_type": "stream",
     "text": [
      "10\n"
     ]
    }
   ],
   "source": [
    "print( 5 << 1  ) #Example: 5 << 1 (binary 101 << 1 gives 1010, which is 10 in decimal)"
   ]
  },
  {
   "cell_type": "markdown",
   "id": "e89b78b5-65d0-471d-88d6-9d90588c18ff",
   "metadata": {},
   "source": [
    "#### Right Shift Operator (>>): Shifts the bits of the first operand to the right by the number of positions specified by the second operand. For positive numbers, new bits on the left are filled with zeros."
   ]
  },
  {
   "cell_type": "code",
   "execution_count": 68,
   "id": "eb4b5222-83b2-45c4-b0f6-8bf4219c0c68",
   "metadata": {},
   "outputs": [
    {
     "name": "stdout",
     "output_type": "stream",
     "text": [
      "2\n"
     ]
    }
   ],
   "source": [
    "print( 5 >> 1 ) #Example: 5 >> 1 (binary 101 >> 1 gives 010, which is 2 in decimal)"
   ]
  },
  {
   "cell_type": "markdown",
   "id": "38f309ae-381b-461c-8616-6d50b231e478",
   "metadata": {},
   "source": [
    "# 4. Comparison Operators"
   ]
  },
  {
   "cell_type": "markdown",
   "id": "7fef0a01-21ee-4a1f-b744-5cba27b1b126",
   "metadata": {},
   "source": [
    "#### Equal to (==): Evaluates if the values on both sides of the operator are equal."
   ]
  },
  {
   "cell_type": "code",
   "execution_count": 69,
   "id": "dd44258e-95b3-4f3e-9eaf-c96b7e1f4cff",
   "metadata": {},
   "outputs": [
    {
     "name": "stdout",
     "output_type": "stream",
     "text": [
      "True\n"
     ]
    }
   ],
   "source": [
    "print(5==5)"
   ]
  },
  {
   "cell_type": "markdown",
   "id": "aa46c76e-c4f9-4e56-a587-1744273396ce",
   "metadata": {},
   "source": [
    "#### Not equal to (!=): Evaluates if the values on both sides of the operator are not equal."
   ]
  },
  {
   "cell_type": "code",
   "execution_count": 71,
   "id": "08ff8dcb-486f-410a-8ea9-05b83316b553",
   "metadata": {},
   "outputs": [
    {
     "name": "stdout",
     "output_type": "stream",
     "text": [
      "True\n"
     ]
    }
   ],
   "source": [
    "print(5!=3)"
   ]
  },
  {
   "cell_type": "markdown",
   "id": "e59e45a2-b245-4801-a8d5-a0a0a093487e",
   "metadata": {},
   "source": [
    "#### Greater than (>): Evaluates if the value on the left side of the operator is greater than the value on the right side."
   ]
  },
  {
   "cell_type": "code",
   "execution_count": 73,
   "id": "2d8a0a4b-2b00-4169-b34b-73ffe5affa14",
   "metadata": {},
   "outputs": [
    {
     "name": "stdout",
     "output_type": "stream",
     "text": [
      "True\n"
     ]
    }
   ],
   "source": [
    "print(10 > 7)"
   ]
  },
  {
   "cell_type": "markdown",
   "id": "d6a04bad-385d-464d-b475-82dbff05b5ad",
   "metadata": {},
   "source": [
    "#### Less than (<): Evaluates if the value on the left side of the operator is less than the value on the right side."
   ]
  },
  {
   "cell_type": "code",
   "execution_count": 74,
   "id": "15dcb745-f66e-4d75-bc87-edbf79731e4d",
   "metadata": {},
   "outputs": [
    {
     "name": "stdout",
     "output_type": "stream",
     "text": [
      "True\n"
     ]
    }
   ],
   "source": [
    "print( 3 < 6 )"
   ]
  },
  {
   "cell_type": "markdown",
   "id": "1df7fe07-369b-41b3-8dc0-5479c8574be1",
   "metadata": {},
   "source": [
    "#### Greater than or equal to (>=): Evaluates if the value on the left side is greater than or equal to the value on the right side."
   ]
  },
  {
   "cell_type": "code",
   "execution_count": 75,
   "id": "4dbafcf5-fa5a-40d2-a131-50e07918ab1a",
   "metadata": {},
   "outputs": [
    {
     "name": "stdout",
     "output_type": "stream",
     "text": [
      "True\n"
     ]
    }
   ],
   "source": [
    "print( 5 >= 5 )"
   ]
  },
  {
   "cell_type": "markdown",
   "id": "03e14c19-ac1e-4164-ba12-2d3bbf4651da",
   "metadata": {},
   "source": [
    "#### Less than or equal to (<=): Evaluates if the value on the left side is less than or equal to the value on the right side."
   ]
  },
  {
   "cell_type": "code",
   "execution_count": 76,
   "id": "5c2db330-a000-46dd-a690-b80476371f18",
   "metadata": {},
   "outputs": [
    {
     "name": "stdout",
     "output_type": "stream",
     "text": [
      "True\n"
     ]
    }
   ],
   "source": [
    "print(4 <= 10 )"
   ]
  },
  {
   "cell_type": "markdown",
   "id": "245af788-3822-4e2a-8518-42ea8a1c604f",
   "metadata": {},
   "source": [
    "# 5. Assignment Operators"
   ]
  },
  {
   "cell_type": "markdown",
   "id": "3520c6a1-8c53-4713-81b6-8e5ddbcd650f",
   "metadata": {},
   "source": [
    "#### Simple Assignment (=): Assigns the value on the right to the variable on the left."
   ]
  },
  {
   "cell_type": "code",
   "execution_count": 77,
   "id": "97144eb1-d779-4818-9f7e-2da2e4663b38",
   "metadata": {},
   "outputs": [
    {
     "name": "stdout",
     "output_type": "stream",
     "text": [
      "10\n"
     ]
    }
   ],
   "source": [
    "a=10\n",
    "print(a)"
   ]
  },
  {
   "cell_type": "markdown",
   "id": "68341c25-72ea-4387-876b-d3d7ecd681ca",
   "metadata": {},
   "source": [
    "#### Add and Assign (+=): Adds the right operand to the left operand and assigns the result to the left operand.\r\n"
   ]
  },
  {
   "cell_type": "code",
   "execution_count": 79,
   "id": "2880383f-f50a-4762-bd41-6fa1e879f3e0",
   "metadata": {},
   "outputs": [
    {
     "name": "stdout",
     "output_type": "stream",
     "text": [
      "10\n"
     ]
    }
   ],
   "source": [
    "b=5\n",
    "b+=5\n",
    "print(b)"
   ]
  },
  {
   "cell_type": "markdown",
   "id": "4b142b49-1595-4f37-b3ef-9c2ded81bb9b",
   "metadata": {},
   "source": [
    "#### Similary we can do Multiply and Assign (*=) , Divide and Assign (/=) , Modulus and Assign (%=) , Exponent and Assign (**=) and etc."
   ]
  },
  {
   "cell_type": "markdown",
   "id": "80d6c796-b0aa-4ed1-a76b-57d6a52e2893",
   "metadata": {},
   "source": [
    "# 6. Identity Operators"
   ]
  },
  {
   "cell_type": "markdown",
   "id": "a816b0ab-3bb6-4fca-b6cb-6d9fd111598b",
   "metadata": {},
   "source": [
    "Identity operators compare the memory locations of two objects. There are two identity operators:\r\n",
    "• \r\n",
    "is: Returns True if both variables point to the same object      \r\n",
    "\r\n",
    "Example: x is y will return True if x and y refer to the same obj\n",
    "      e• ct.\r\n",
    "is not: Returns True if both variables do not point to the same obj          ct.\r\n",
    "\r\n",
    "Example: x is not y will return True if x and y do not refer to the same \n",
    "          object.\r\n",
    "These operators are particularly useful when you need to check if two variables refer to the same object in memory, not just have equalalues.\r\n",
    "\r\n"
   ]
  },
  {
   "cell_type": "code",
   "execution_count": 80,
   "id": "18402f18-7753-46b0-a252-f34c10f46b79",
   "metadata": {},
   "outputs": [
    {
     "name": "stdout",
     "output_type": "stream",
     "text": [
      "True\n",
      "False\n"
     ]
    }
   ],
   "source": [
    "# Identity Operators Example\n",
    "a = [1, 2, 3]\n",
    "b = a\n",
    "c = [1, 2, 3]\n",
    "\n",
    "print(a is b)    # True, a and b point to the same object\n",
    "print(a is c)    # False, a and c do not point to the same object, despite having the same contents"
   ]
  },
  {
   "cell_type": "markdown",
   "id": "29de06b3-278a-46bc-b9cb-8aadb1977a34",
   "metadata": {},
   "source": [
    "# 7. Membership Operators"
   ]
  },
  {
   "cell_type": "code",
   "execution_count": null,
   "id": "64c5f594-5632-4796-a326-6cc378edf1b4",
   "metadata": {},
   "outputs": [],
   "source": [
    "Membership operators are used to test whether a value or variable is found in a sequence (string, list, tuple, set, and dictionary).\n",
    "\n",
    "• in: Returns True if the specified value is present in the sequence.\n",
    "    Example: 5 in [1, 2, 3, 4, 5] will return True because 5 is in the list.\n",
    "    \n",
    "• not in: Returns True if the specified value is not present in the sequence.\n",
    "        Example: 5 not in [1, 2, 3, 4] will return True because 5 is not in the list.\n",
    "    \n",
    "These operators are commonly used to check for the presence of an element in a data structure."
   ]
  },
  {
   "cell_type": "code",
   "execution_count": 81,
   "id": "6caa4cbb-5997-4aa8-9069-29628eea43aa",
   "metadata": {},
   "outputs": [
    {
     "name": "stdout",
     "output_type": "stream",
     "text": [
      "True\n",
      "True\n"
     ]
    }
   ],
   "source": [
    "# Membership Operators Example\n",
    "x = 2\n",
    "y = [1, 2, 3]\n",
    "\n",
    "print(x in y)    # True, x is a member of y\n",
    "print(4 not in y) # True, 4 is not a member of y"
   ]
  }
 ],
 "metadata": {
  "kernelspec": {
   "display_name": "Python 3 (ipykernel)",
   "language": "python",
   "name": "python3"
  },
  "language_info": {
   "codemirror_mode": {
    "name": "ipython",
    "version": 3
   },
   "file_extension": ".py",
   "mimetype": "text/x-python",
   "name": "python",
   "nbconvert_exporter": "python",
   "pygments_lexer": "ipython3",
   "version": "3.11.4"
  }
 },
 "nbformat": 4,
 "nbformat_minor": 5
}
