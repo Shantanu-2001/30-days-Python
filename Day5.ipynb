{
 "cells": [
  {
   "cell_type": "markdown",
   "id": "7771add0-7188-4270-bb7e-50aefd600f90",
   "metadata": {},
   "source": [
    "# Day-5 (Concept of Loops)"
   ]
  },
  {
   "cell_type": "markdown",
   "id": "b13d85fb-b6c4-4e6c-9689-468fbdbf879b",
   "metadata": {},
   "source": [
    "#### Loops in Python, as in many programming languages, are used for the repetitive execution of a block of code.\r\n"
   ]
  },
  {
   "cell_type": "markdown",
   "id": "8bb7264e-031d-4aa3-995d-d8b114fe3652",
   "metadata": {},
   "source": [
    "# 1. While loop"
   ]
  },
  {
   "cell_type": "markdown",
   "id": "e9d891f9-f190-4621-a2b9-1aec26fa16dc",
   "metadata": {},
   "source": [
    "#### In python, a while loop is used to execute a block of statements repeatedly until a given condition is satisfied. And when the condition becomes false, the line immediately after the loop in the program is executed."
   ]
  },
  {
   "cell_type": "markdown",
   "id": "a5a63df3-3682-4411-afcf-73561687f6e3",
   "metadata": {},
   "source": [
    "### Q. Program to display numbers from 1 to 5."
   ]
  },
  {
   "cell_type": "code",
   "execution_count": 4,
   "id": "614e3091-1b42-42fe-8c2e-2994313627d7",
   "metadata": {},
   "outputs": [
    {
     "name": "stdout",
     "output_type": "stream",
     "text": [
      "1\n",
      "2\n",
      "3\n",
      "4\n",
      "5\n"
     ]
    }
   ],
   "source": [
    "i=1\n",
    "n=5\n",
    "while(i<=n):\n",
    "    print(i)\n",
    "    i=i+1"
   ]
  },
  {
   "cell_type": "markdown",
   "id": "81eb666e-0232-4b85-80c5-daafbee3598f",
   "metadata": {},
   "source": [
    "### Q. Enter the value from the user and make a multiplication till 10."
   ]
  },
  {
   "cell_type": "code",
   "execution_count": 7,
   "id": "f4442545-6922-47a1-9868-d08ad27e643e",
   "metadata": {},
   "outputs": [
    {
     "name": "stdin",
     "output_type": "stream",
     "text": [
      "Enter the Value : 8\n"
     ]
    },
    {
     "name": "stdout",
     "output_type": "stream",
     "text": [
      "8  X  1 = 8\n",
      "8  X  2 = 16\n",
      "8  X  3 = 24\n",
      "8  X  4 = 32\n",
      "8  X  5 = 40\n",
      "8  X  6 = 48\n",
      "8  X  7 = 56\n",
      "8  X  8 = 64\n",
      "8  X  9 = 72\n",
      "8  X  10 = 80\n",
      "This is the multiplication table\n"
     ]
    }
   ],
   "source": [
    "x = int(input(\"Enter the Value :\"))\n",
    "i=1\n",
    "while(i<=10):\n",
    "    print(x,\" X \",i,\"=\",x*i)\n",
    "    i=i+1\n",
    "print(\"This is the multiplication table\")"
   ]
  },
  {
   "cell_type": "markdown",
   "id": "a304796e-aef3-41e0-88ef-e010ef5630b7",
   "metadata": {},
   "source": [
    "### Q. Print Hello World 25 times."
   ]
  },
  {
   "cell_type": "code",
   "execution_count": 13,
   "id": "d12e3f67-5e13-4fac-9207-ace83d7841d4",
   "metadata": {},
   "outputs": [
    {
     "name": "stdout",
     "output_type": "stream",
     "text": [
      "Hello World\n",
      "Hello World\n",
      "Hello World\n",
      "Hello World\n",
      "Hello World\n",
      "Hello World\n",
      "Hello World\n",
      "Hello World\n",
      "Hello World\n",
      "Hello World\n",
      "Hello World\n",
      "Hello World\n",
      "Hello World\n",
      "Hello World\n",
      "Hello World\n",
      "Hello World\n",
      "Hello World\n",
      "Hello World\n",
      "Hello World\n",
      "Hello World\n",
      "Hello World\n",
      "Hello World\n",
      "Hello World\n",
      "Hello World\n",
      "Hello World\n"
     ]
    }
   ],
   "source": [
    "count=0\n",
    "while(count<25):\n",
    "    print(\"Hello World\")\n",
    "    count = count + 1    "
   ]
  },
  {
   "cell_type": "markdown",
   "id": "d22550eb-ab64-4620-a8d4-fd08a87fee93",
   "metadata": {},
   "source": [
    "### Q. How to use else statement in the while loop."
   ]
  },
  {
   "cell_type": "code",
   "execution_count": 16,
   "id": "a6db5034-cf48-421a-a0b0-1f95715fc12a",
   "metadata": {},
   "outputs": [
    {
     "name": "stdout",
     "output_type": "stream",
     "text": [
      "Hello World\n",
      "Hello World\n",
      "Hello World\n",
      "Hello World\n",
      "Hello World\n",
      "Hello World\n",
      "Hello World\n",
      "Hello World\n",
      "Hello World\n",
      "Hello World\n",
      "Hello World\n",
      "Hello World\n",
      "Hello World\n",
      "Hello World\n",
      "Hello World\n",
      "Hello World\n",
      "Hello World\n",
      "Hello World\n",
      "Hello World\n",
      "Hello World\n",
      "Hello World\n",
      "Hello World\n",
      "Hello World\n",
      "Hello World\n",
      "Hello World\n",
      "This is the else block.\n"
     ]
    }
   ],
   "source": [
    "count=0\n",
    "while(count<25):\n",
    "    print(\"Hello World\")\n",
    "    count = count + 1\n",
    "else:\n",
    "    print(\"This is the else block.\")"
   ]
  },
  {
   "cell_type": "markdown",
   "id": "bd00157b-ec69-4008-91ec-ec172d34eeb5",
   "metadata": {},
   "source": [
    "# 2. For Loop"
   ]
  },
  {
   "cell_type": "markdown",
   "id": "b9e6d096-d0d7-42f5-bc2a-fe0bebf7e4af",
   "metadata": {},
   "source": [
    "#### A for loop in Python is used for iterating over a sequence (such as a list, tuple, dictionary, set, or string). This is less like the for keyword in other programming languages, and works more like an iterator method as found in other object-orientated programming languages.\n",
    "\n",
    "#### With the for loop, you can execute a set of statements, once for each item in a list, tuple, set etc.\n",
    "\n"
   ]
  },
  {
   "cell_type": "code",
   "execution_count": 17,
   "id": "99f6d473-db43-4081-b2d1-f6fb25adcf11",
   "metadata": {},
   "outputs": [
    {
     "name": "stdout",
     "output_type": "stream",
     "text": [
      "apple\n",
      "banana\n",
      "cherry\n"
     ]
    }
   ],
   "source": [
    "fruits = [\"apple\", \"banana\" , \"cherry\"]\n",
    "for x in fruits:\n",
    "    print(x)"
   ]
  },
  {
   "cell_type": "markdown",
   "id": "6f6e0aa3-ffb0-4eda-8c97-d86f8343d7df",
   "metadata": {},
   "source": [
    "### Looping through a String"
   ]
  },
  {
   "cell_type": "code",
   "execution_count": 18,
   "id": "df7eb19f-7afb-47b9-848c-14a5142a53fc",
   "metadata": {},
   "outputs": [
    {
     "name": "stdout",
     "output_type": "stream",
     "text": [
      "B\n",
      "a\n",
      "n\n",
      "a\n",
      "n\n",
      "a\n"
     ]
    }
   ],
   "source": [
    "for x in \"Banana\":\n",
    "    print(x)"
   ]
  },
  {
   "cell_type": "markdown",
   "id": "35d684df-00b4-42ab-8097-7b55f5595ca2",
   "metadata": {},
   "source": [
    "### Range function in for loop"
   ]
  },
  {
   "cell_type": "code",
   "execution_count": 19,
   "id": "b6473ea8-a6d7-466a-9aab-8e6b71fd04eb",
   "metadata": {},
   "outputs": [
    {
     "name": "stdout",
     "output_type": "stream",
     "text": [
      "0\n",
      "1\n",
      "2\n",
      "3\n",
      "4\n",
      "5\n",
      "6\n",
      "7\n",
      "8\n",
      "9\n",
      "10\n",
      "11\n",
      "12\n",
      "13\n",
      "14\n",
      "15\n",
      "16\n",
      "17\n",
      "18\n",
      "19\n",
      "20\n",
      "21\n",
      "22\n",
      "23\n",
      "24\n"
     ]
    }
   ],
   "source": [
    "for x in range(25):\n",
    "    print(x)"
   ]
  },
  {
   "cell_type": "code",
   "execution_count": 20,
   "id": "7d292cfe-59ac-42c3-831a-a4f487ae9d12",
   "metadata": {},
   "outputs": [
    {
     "name": "stdout",
     "output_type": "stream",
     "text": [
      "3\n",
      "4\n",
      "5\n",
      "6\n",
      "7\n",
      "8\n",
      "9\n",
      "10\n",
      "11\n",
      "12\n",
      "13\n",
      "14\n",
      "15\n",
      "16\n",
      "17\n",
      "18\n",
      "19\n",
      "20\n",
      "21\n",
      "22\n",
      "23\n",
      "24\n"
     ]
    }
   ],
   "source": [
    "for x in range(3,25):\n",
    "    print(x)"
   ]
  }
 ],
 "metadata": {
  "kernelspec": {
   "display_name": "Python 3 (ipykernel)",
   "language": "python",
   "name": "python3"
  },
  "language_info": {
   "codemirror_mode": {
    "name": "ipython",
    "version": 3
   },
   "file_extension": ".py",
   "mimetype": "text/x-python",
   "name": "python",
   "nbconvert_exporter": "python",
   "pygments_lexer": "ipython3",
   "version": "3.11.4"
  }
 },
 "nbformat": 4,
 "nbformat_minor": 5
}
