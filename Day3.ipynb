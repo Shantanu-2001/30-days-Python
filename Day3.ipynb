{
 "cells": [
  {
   "cell_type": "markdown",
   "id": "b1b9f376-5056-48e1-a5b3-dd8488f25b89",
   "metadata": {},
   "source": [
    "# Day -3 ( Built in Functions of Python )"
   ]
  },
  {
   "cell_type": "markdown",
   "id": "2217e87c-45ac-4fd3-b969-cdceabe305af",
   "metadata": {},
   "source": [
    "# 1. abs() Function"
   ]
  },
  {
   "cell_type": "markdown",
   "id": "4765c56c-04c5-43ca-9ea7-38abc0bb8d5b",
   "metadata": {},
   "source": [
    "#### The abs() function in Python is used to return the absolute value of a given number. The absolute value of a number is its distance from zero on the number line, regardless of its direction. Therefore, the absolute value is always non-negative."
   ]
  },
  {
   "cell_type": "markdown",
   "id": "56d04845-493c-4b61-b54c-e54f89718ba8",
   "metadata": {},
   "source": [
    "#### Suppose we have a large database containing age data. In this dataset, there are instances of negative numbers, which are not valid for age. To correct this, we need to convert these negative values into absolute values, and for this purpose, we can directly use the abs() function."
   ]
  },
  {
   "cell_type": "code",
   "execution_count": 1,
   "id": "d546bb28-b7d8-4820-a464-24841c530e64",
   "metadata": {},
   "outputs": [
    {
     "name": "stdout",
     "output_type": "stream",
     "text": [
      "7.25\n"
     ]
    }
   ],
   "source": [
    "x= abs(-7.25)\n",
    "print(x)"
   ]
  },
  {
   "cell_type": "code",
   "execution_count": 2,
   "id": "481c3486-a26a-49fe-a48c-2d907ba03989",
   "metadata": {},
   "outputs": [
    {
     "name": "stdout",
     "output_type": "stream",
     "text": [
      "8\n"
     ]
    }
   ],
   "source": [
    "y= abs(-8)\n",
    "print(y)"
   ]
  },
  {
   "cell_type": "code",
   "execution_count": 3,
   "id": "bfcc7306-a47a-480a-80f5-73a794000378",
   "metadata": {},
   "outputs": [
    {
     "name": "stdout",
     "output_type": "stream",
     "text": [
      "5.830951894845301\n"
     ]
    }
   ],
   "source": [
    "z= abs(3+5j)\n",
    "print(z)"
   ]
  },
  {
   "cell_type": "markdown",
   "id": "7dfbc8f3-64c0-475f-aaaf-f9c6049ff6a1",
   "metadata": {},
   "source": [
    "# 2. Binary Function"
   ]
  },
  {
   "cell_type": "markdown",
   "id": "8393c453-1264-405a-b066-ef4d98512d8d",
   "metadata": {},
   "source": [
    "#### The bin() function in Python is a built-in function that is used to convert an integer number to its binary representation. It returns the binary representation as a string. This binary string is prefixed with \"0b\", which indicates that the following characters represent a binary number."
   ]
  },
  {
   "cell_type": "code",
   "execution_count": 4,
   "id": "f713d005-9015-4a50-b82c-23867829576f",
   "metadata": {},
   "outputs": [
    {
     "name": "stdout",
     "output_type": "stream",
     "text": [
      "0b1101\n"
     ]
    }
   ],
   "source": [
    "x = bin(13)\n",
    "print(x)"
   ]
  },
  {
   "cell_type": "code",
   "execution_count": 5,
   "id": "84e4adea-4055-48fd-b2eb-e1ee7541b7b9",
   "metadata": {},
   "outputs": [
    {
     "name": "stdout",
     "output_type": "stream",
     "text": [
      "0b100100\n"
     ]
    }
   ],
   "source": [
    "y = bin(36)\n",
    "print(y)"
   ]
  },
  {
   "cell_type": "code",
   "execution_count": 6,
   "id": "2b599a47-9f0a-44c7-bf44-030a0b13f67c",
   "metadata": {},
   "outputs": [
    {
     "name": "stdout",
     "output_type": "stream",
     "text": [
      "0b111000\n"
     ]
    }
   ],
   "source": [
    "z= bin(56)\n",
    "print(z)"
   ]
  },
  {
   "cell_type": "markdown",
   "id": "7979ff27-cb9c-4493-865b-2661bdcae8d2",
   "metadata": {},
   "source": [
    "# 3. Bytes Function"
   ]
  },
  {
   "cell_type": "markdown",
   "id": "330667a1-4c25-4038-a5c2-d26254069a9b",
   "metadata": {},
   "source": [
    "#### In Python, the bytes() function is used to create a new bytes object, which is an immutable sequence of integers in the range 0 <= x < 256. Bytes objects are similar to bytearray objects, but the former is immutable, while the latter is mutable."
   ]
  },
  {
   "cell_type": "code",
   "execution_count": 8,
   "id": "af9f3958-8b5f-41ed-bb71-a8ca37063fc9",
   "metadata": {},
   "outputs": [
    {
     "name": "stdout",
     "output_type": "stream",
     "text": [
      "b'\\x00\\x00\\x00\\x00'\n"
     ]
    }
   ],
   "source": [
    "x= bytes(4)\n",
    "print(x)"
   ]
  },
  {
   "cell_type": "code",
   "execution_count": 9,
   "id": "aee42049-0a0d-4e19-8174-3c89694973f4",
   "metadata": {},
   "outputs": [
    {
     "name": "stdout",
     "output_type": "stream",
     "text": [
      "b'\\x00\\x00\\x00\\x00\\x00\\x00\\x00\\x00\\x00\\x00\\x00\\x00\\x00\\x00\\x00\\x00'\n"
     ]
    }
   ],
   "source": [
    "x= bytes(16)\n",
    "print(x)"
   ]
  },
  {
   "cell_type": "markdown",
   "id": "01fff639-70c3-419c-b5ee-c890e65684b3",
   "metadata": {},
   "source": [
    "# 4. chr() Function"
   ]
  },
  {
   "cell_type": "markdown",
   "id": "b671befc-519f-4172-ae07-c9ec137b82d5",
   "metadata": {},
   "source": [
    "#### The chr() function in Python is a built-in function that returns the string representing a character whose Unicode code point is the integer passed. The function takes a single integer argument and returns a string of one character."
   ]
  },
  {
   "cell_type": "code",
   "execution_count": 12,
   "id": "6ad3fab7-4690-4b22-828d-2d673d78ebe8",
   "metadata": {},
   "outputs": [
    {
     "name": "stdout",
     "output_type": "stream",
     "text": [
      "a\n"
     ]
    }
   ],
   "source": [
    "x=chr(97)\n",
    "print(x)"
   ]
  },
  {
   "cell_type": "code",
   "execution_count": 13,
   "id": "ed4b4a13-c15b-4648-8592-009eecbe9394",
   "metadata": {},
   "outputs": [
    {
     "name": "stdout",
     "output_type": "stream",
     "text": [
      "b\n"
     ]
    }
   ],
   "source": [
    "y=chr(98)\n",
    "print(y)"
   ]
  },
  {
   "cell_type": "code",
   "execution_count": 14,
   "id": "39eef566-13dd-432c-a5c8-c73541fcf653",
   "metadata": {},
   "outputs": [
    {
     "name": "stdout",
     "output_type": "stream",
     "text": [
      "c\n"
     ]
    }
   ],
   "source": [
    "y=chr(99)\n",
    "print(y)"
   ]
  },
  {
   "cell_type": "code",
   "execution_count": 16,
   "id": "adda3f8e-7686-4c0a-b20b-0d0e9bc8fde2",
   "metadata": {},
   "outputs": [
    {
     "name": "stdout",
     "output_type": "stream",
     "text": [
      "^\n"
     ]
    }
   ],
   "source": [
    "y=chr(94)\n",
    "print(y)"
   ]
  },
  {
   "cell_type": "code",
   "execution_count": 17,
   "id": "f7053e85-0fff-432e-8f73-f864b5b55a59",
   "metadata": {},
   "outputs": [
    {
     "name": "stdout",
     "output_type": "stream",
     "text": [
      "_\n"
     ]
    }
   ],
   "source": [
    "y=chr(95)\n",
    "print(y)"
   ]
  },
  {
   "cell_type": "markdown",
   "id": "523e7d83-576a-4969-9684-b6202d27a3ff",
   "metadata": {},
   "source": [
    "# 5. Complex Function"
   ]
  },
  {
   "cell_type": "markdown",
   "id": "88bdd136-e225-4618-9734-bff7ba23f620",
   "metadata": {},
   "source": [
    "#### The complex() function in Python is used to create a complex number. A complex number in Python is represented as a + bj, where a is the real part and b is the imaginary part of the complex number, and j is the imaginary unit."
   ]
  },
  {
   "cell_type": "code",
   "execution_count": 18,
   "id": "413c6a4a-b38b-4f23-b0ff-5a0ed1738708",
   "metadata": {},
   "outputs": [
    {
     "name": "stdout",
     "output_type": "stream",
     "text": [
      "(3+5j)\n"
     ]
    }
   ],
   "source": [
    "x=complex(3,5)\n",
    "print(x)"
   ]
  },
  {
   "cell_type": "code",
   "execution_count": 19,
   "id": "01a23d3a-437a-4553-8c4a-a4f91ca404f7",
   "metadata": {},
   "outputs": [
    {
     "name": "stdout",
     "output_type": "stream",
     "text": [
      "(2.5+3.96j)\n"
     ]
    }
   ],
   "source": [
    "y=complex(2.5,3.96)\n",
    "print(y)"
   ]
  },
  {
   "cell_type": "code",
   "execution_count": 22,
   "id": "08a814f1-5bd3-4834-bebb-a0fe0d6c94d4",
   "metadata": {},
   "outputs": [
    {
     "name": "stdout",
     "output_type": "stream",
     "text": [
      "(2+0j)\n"
     ]
    }
   ],
   "source": [
    "z= complex('2')\n",
    "print(z)"
   ]
  },
  {
   "cell_type": "markdown",
   "id": "048f91fd-6490-4f82-b5b3-a1e7de7e39e4",
   "metadata": {},
   "source": [
    "# 6. Float Function"
   ]
  },
  {
   "cell_type": "markdown",
   "id": "9cbccd2d-bc98-461f-b2ba-e0c6d3fd2c12",
   "metadata": {},
   "source": [
    "#### The float() function in Python is a built-in function that converts a number or a string to a floating-point number. If the argument is a string, it should contain a decimal number or be in scientific notation. If the argument is a number, it is converted to a floating-point number."
   ]
  },
  {
   "cell_type": "code",
   "execution_count": 23,
   "id": "e6724c76-ccdf-4c6d-9591-787b4ae4e38f",
   "metadata": {},
   "outputs": [
    {
     "name": "stdout",
     "output_type": "stream",
     "text": [
      "3.0\n"
     ]
    }
   ],
   "source": [
    "x=float(3)\n",
    "print(x)"
   ]
  },
  {
   "cell_type": "markdown",
   "id": "011d8a34-eb8c-4aa1-915e-6690637c3920",
   "metadata": {},
   "source": [
    "# 7. Int Function"
   ]
  },
  {
   "cell_type": "markdown",
   "id": "d231b6dc-d42c-403b-bd2d-ef2306c2ee90",
   "metadata": {},
   "source": [
    "#### The int() function in Python is a built-in function that is used to convert a given value into an integer. This function can take input in various forms, such as a string, a floating-point number, or another integer, and convert it to an integer type. If the function is called without an argument, it returns 0."
   ]
  },
  {
   "cell_type": "code",
   "execution_count": 24,
   "id": "e677f180-ef09-4b8d-928a-fb72cc895ac2",
   "metadata": {},
   "outputs": [
    {
     "name": "stdout",
     "output_type": "stream",
     "text": [
      "12\n"
     ]
    }
   ],
   "source": [
    "x=int(12.56)\n",
    "print(x)"
   ]
  },
  {
   "cell_type": "markdown",
   "id": "b96a72ff-f981-4a5b-87c1-866fce598664",
   "metadata": {},
   "source": [
    "# 8. Str() Function "
   ]
  },
  {
   "cell_type": "markdown",
   "id": "fa5f07d0-e40a-4e92-b7fb-d87432df9596",
   "metadata": {},
   "source": [
    "#### The str() function in Python is a built-in function that converts a specified value into a string. It's a versatile function that can handle a wide range of data types, including numbers, objects, and even Python data structures. If the function is called without an argument, it returns an empty string."
   ]
  },
  {
   "cell_type": "code",
   "execution_count": 25,
   "id": "2e637edb-d2b2-4e64-8a83-6f3a7b401cc8",
   "metadata": {},
   "outputs": [
    {
     "name": "stdout",
     "output_type": "stream",
     "text": [
      "2568\n",
      "<class 'str'>\n"
     ]
    }
   ],
   "source": [
    "a= str(\"2568\")\n",
    "print(a)\n",
    "print(type(a))"
   ]
  },
  {
   "cell_type": "markdown",
   "id": "fa83596b-cbfe-4e0b-89f8-88b19f4950dc",
   "metadata": {},
   "source": [
    "# 9.Help Function"
   ]
  },
  {
   "cell_type": "markdown",
   "id": "e1df1b63-3609-42dd-9983-fcb30456d625",
   "metadata": {},
   "source": [
    "#### The help() function in Python is a built-in function that is used to display the documentation of modules, functions, classes, keywords, etc. This function is incredibly useful for quickly understanding what a particular Python object does, how it works, or what arguments it expects, without having to leave the interpreter or looking up documentation online."
   ]
  },
  {
   "cell_type": "code",
   "execution_count": 26,
   "id": "9fd6fa31-85ce-40c8-b043-29562fc8f426",
   "metadata": {},
   "outputs": [
    {
     "name": "stdout",
     "output_type": "stream",
     "text": [
      "Help on built-in function print in module builtins:\n",
      "\n",
      "print(*args, sep=' ', end='\\n', file=None, flush=False)\n",
      "    Prints the values to a stream, or to sys.stdout by default.\n",
      "    \n",
      "    sep\n",
      "      string inserted between values, default a space.\n",
      "    end\n",
      "      string appended after the last value, default a newline.\n",
      "    file\n",
      "      a file-like object (stream); defaults to the current sys.stdout.\n",
      "    flush\n",
      "      whether to forcibly flush the stream.\n",
      "\n"
     ]
    }
   ],
   "source": [
    "help(print)"
   ]
  },
  {
   "cell_type": "code",
   "execution_count": 27,
   "id": "6a07639a-12d4-4dbc-acb4-9aaef0e98344",
   "metadata": {},
   "outputs": [
    {
     "name": "stdout",
     "output_type": "stream",
     "text": [
      "Help on class float in module builtins:\n",
      "\n",
      "class float(object)\n",
      " |  float(x=0, /)\n",
      " |  \n",
      " |  Convert a string or number to a floating point number, if possible.\n",
      " |  \n",
      " |  Methods defined here:\n",
      " |  \n",
      " |  __abs__(self, /)\n",
      " |      abs(self)\n",
      " |  \n",
      " |  __add__(self, value, /)\n",
      " |      Return self+value.\n",
      " |  \n",
      " |  __bool__(self, /)\n",
      " |      True if self else False\n",
      " |  \n",
      " |  __ceil__(self, /)\n",
      " |      Return the ceiling as an Integral.\n",
      " |  \n",
      " |  __divmod__(self, value, /)\n",
      " |      Return divmod(self, value).\n",
      " |  \n",
      " |  __eq__(self, value, /)\n",
      " |      Return self==value.\n",
      " |  \n",
      " |  __float__(self, /)\n",
      " |      float(self)\n",
      " |  \n",
      " |  __floor__(self, /)\n",
      " |      Return the floor as an Integral.\n",
      " |  \n",
      " |  __floordiv__(self, value, /)\n",
      " |      Return self//value.\n",
      " |  \n",
      " |  __format__(self, format_spec, /)\n",
      " |      Formats the float according to format_spec.\n",
      " |  \n",
      " |  __ge__(self, value, /)\n",
      " |      Return self>=value.\n",
      " |  \n",
      " |  __getattribute__(self, name, /)\n",
      " |      Return getattr(self, name).\n",
      " |  \n",
      " |  __getnewargs__(self, /)\n",
      " |  \n",
      " |  __gt__(self, value, /)\n",
      " |      Return self>value.\n",
      " |  \n",
      " |  __hash__(self, /)\n",
      " |      Return hash(self).\n",
      " |  \n",
      " |  __int__(self, /)\n",
      " |      int(self)\n",
      " |  \n",
      " |  __le__(self, value, /)\n",
      " |      Return self<=value.\n",
      " |  \n",
      " |  __lt__(self, value, /)\n",
      " |      Return self<value.\n",
      " |  \n",
      " |  __mod__(self, value, /)\n",
      " |      Return self%value.\n",
      " |  \n",
      " |  __mul__(self, value, /)\n",
      " |      Return self*value.\n",
      " |  \n",
      " |  __ne__(self, value, /)\n",
      " |      Return self!=value.\n",
      " |  \n",
      " |  __neg__(self, /)\n",
      " |      -self\n",
      " |  \n",
      " |  __pos__(self, /)\n",
      " |      +self\n",
      " |  \n",
      " |  __pow__(self, value, mod=None, /)\n",
      " |      Return pow(self, value, mod).\n",
      " |  \n",
      " |  __radd__(self, value, /)\n",
      " |      Return value+self.\n",
      " |  \n",
      " |  __rdivmod__(self, value, /)\n",
      " |      Return divmod(value, self).\n",
      " |  \n",
      " |  __repr__(self, /)\n",
      " |      Return repr(self).\n",
      " |  \n",
      " |  __rfloordiv__(self, value, /)\n",
      " |      Return value//self.\n",
      " |  \n",
      " |  __rmod__(self, value, /)\n",
      " |      Return value%self.\n",
      " |  \n",
      " |  __rmul__(self, value, /)\n",
      " |      Return value*self.\n",
      " |  \n",
      " |  __round__(self, ndigits=None, /)\n",
      " |      Return the Integral closest to x, rounding half toward even.\n",
      " |      \n",
      " |      When an argument is passed, work like built-in round(x, ndigits).\n",
      " |  \n",
      " |  __rpow__(self, value, mod=None, /)\n",
      " |      Return pow(value, self, mod).\n",
      " |  \n",
      " |  __rsub__(self, value, /)\n",
      " |      Return value-self.\n",
      " |  \n",
      " |  __rtruediv__(self, value, /)\n",
      " |      Return value/self.\n",
      " |  \n",
      " |  __sub__(self, value, /)\n",
      " |      Return self-value.\n",
      " |  \n",
      " |  __truediv__(self, value, /)\n",
      " |      Return self/value.\n",
      " |  \n",
      " |  __trunc__(self, /)\n",
      " |      Return the Integral closest to x between 0 and x.\n",
      " |  \n",
      " |  as_integer_ratio(self, /)\n",
      " |      Return integer ratio.\n",
      " |      \n",
      " |      Return a pair of integers, whose ratio is exactly equal to the original float\n",
      " |      and with a positive denominator.\n",
      " |      \n",
      " |      Raise OverflowError on infinities and a ValueError on NaNs.\n",
      " |      \n",
      " |      >>> (10.0).as_integer_ratio()\n",
      " |      (10, 1)\n",
      " |      >>> (0.0).as_integer_ratio()\n",
      " |      (0, 1)\n",
      " |      >>> (-.25).as_integer_ratio()\n",
      " |      (-1, 4)\n",
      " |  \n",
      " |  conjugate(self, /)\n",
      " |      Return self, the complex conjugate of any float.\n",
      " |  \n",
      " |  hex(self, /)\n",
      " |      Return a hexadecimal representation of a floating-point number.\n",
      " |      \n",
      " |      >>> (-0.1).hex()\n",
      " |      '-0x1.999999999999ap-4'\n",
      " |      >>> 3.14159.hex()\n",
      " |      '0x1.921f9f01b866ep+1'\n",
      " |  \n",
      " |  is_integer(self, /)\n",
      " |      Return True if the float is an integer.\n",
      " |  \n",
      " |  ----------------------------------------------------------------------\n",
      " |  Class methods defined here:\n",
      " |  \n",
      " |  __getformat__(typestr, /) from builtins.type\n",
      " |      You probably don't want to use this function.\n",
      " |      \n",
      " |        typestr\n",
      " |          Must be 'double' or 'float'.\n",
      " |      \n",
      " |      It exists mainly to be used in Python's test suite.\n",
      " |      \n",
      " |      This function returns whichever of 'unknown', 'IEEE, big-endian' or 'IEEE,\n",
      " |      little-endian' best describes the format of floating point numbers used by the\n",
      " |      C type named by typestr.\n",
      " |  \n",
      " |  fromhex(string, /) from builtins.type\n",
      " |      Create a floating-point number from a hexadecimal string.\n",
      " |      \n",
      " |      >>> float.fromhex('0x1.ffffp10')\n",
      " |      2047.984375\n",
      " |      >>> float.fromhex('-0x1p-1074')\n",
      " |      -5e-324\n",
      " |  \n",
      " |  ----------------------------------------------------------------------\n",
      " |  Static methods defined here:\n",
      " |  \n",
      " |  __new__(*args, **kwargs) from builtins.type\n",
      " |      Create and return a new object.  See help(type) for accurate signature.\n",
      " |  \n",
      " |  ----------------------------------------------------------------------\n",
      " |  Data descriptors defined here:\n",
      " |  \n",
      " |  imag\n",
      " |      the imaginary part of a complex number\n",
      " |  \n",
      " |  real\n",
      " |      the real part of a complex number\n",
      "\n"
     ]
    }
   ],
   "source": [
    "help(float)"
   ]
  },
  {
   "cell_type": "markdown",
   "id": "b2bec977-7b33-4792-a732-7d3cc67f73f9",
   "metadata": {},
   "source": [
    "# 10. Input Function"
   ]
  },
  {
   "cell_type": "markdown",
   "id": "a27fd907-5eaa-495c-8e18-379cbfa7f434",
   "metadata": {},
   "source": [
    "#### The input() function in Python is a built-in function that allows you to accept user input from the standard input device, which is usually the keyboard. When input() is called, the program execution halts until the user enters some data and presses the Enter key."
   ]
  },
  {
   "cell_type": "code",
   "execution_count": 30,
   "id": "75a683bf-ba27-4c90-8fe8-002ac39ec407",
   "metadata": {},
   "outputs": [
    {
     "name": "stdin",
     "output_type": "stream",
     "text": [
      "Enter your name Shantanu Rana\n"
     ]
    },
    {
     "name": "stdout",
     "output_type": "stream",
     "text": [
      "hello Shantanu Rana\n"
     ]
    }
   ],
   "source": [
    "x= input(\"Enter your name\")\n",
    "print(\"hello\",x)"
   ]
  },
  {
   "cell_type": "code",
   "execution_count": 31,
   "id": "7e24ad3a-2c3a-4b61-a576-4d09565f14ee",
   "metadata": {},
   "outputs": [
    {
     "name": "stdin",
     "output_type": "stream",
     "text": [
      "Enter your age 22\n"
     ]
    },
    {
     "name": "stdout",
     "output_type": "stream",
     "text": [
      "Your age is  22\n"
     ]
    }
   ],
   "source": [
    "x= input(\"Enter your age\")\n",
    "print(\"Your age is \",x)"
   ]
  },
  {
   "cell_type": "code",
   "execution_count": 32,
   "id": "875de186-b41e-42c3-96bc-69a02d53892e",
   "metadata": {},
   "outputs": [
    {
     "name": "stdin",
     "output_type": "stream",
     "text": [
      "Enter your name Shantanu Rana\n"
     ]
    },
    {
     "name": "stdout",
     "output_type": "stream",
     "text": [
      "hello Shantanu Rana\n"
     ]
    },
    {
     "name": "stdin",
     "output_type": "stream",
     "text": [
      "Enter your age 22\n"
     ]
    },
    {
     "name": "stdout",
     "output_type": "stream",
     "text": [
      "Your age is  22\n"
     ]
    }
   ],
   "source": [
    "x= input(\"Enter your name\")\n",
    "print(\"hello\",x)\n",
    "y= input(\"Enter your age\")\n",
    "print(\"Your age is \",y)"
   ]
  }
 ],
 "metadata": {
  "kernelspec": {
   "display_name": "Python 3 (ipykernel)",
   "language": "python",
   "name": "python3"
  },
  "language_info": {
   "codemirror_mode": {
    "name": "ipython",
    "version": 3
   },
   "file_extension": ".py",
   "mimetype": "text/x-python",
   "name": "python",
   "nbconvert_exporter": "python",
   "pygments_lexer": "ipython3",
   "version": "3.11.4"
  }
 },
 "nbformat": 4,
 "nbformat_minor": 5
}
