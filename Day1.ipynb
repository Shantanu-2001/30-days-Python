{
 "cells": [
  {
   "cell_type": "markdown",
   "id": "5e4e6188-3ac5-40cd-a996-1ab173610f3c",
   "metadata": {},
   "source": [
    "# This is the first Class of Python."
   ]
  },
  {
   "cell_type": "markdown",
   "id": "6b0d93f6-5885-4f38-bd83-2cd52586a662",
   "metadata": {},
   "source": [
    "### we are going to write our first program"
   ]
  },
  {
   "cell_type": "code",
   "execution_count": 3,
   "id": "f0a49308-1c39-47eb-abd6-e13711dd152b",
   "metadata": {},
   "outputs": [
    {
     "name": "stdout",
     "output_type": "stream",
     "text": [
      "Hello world , this is an amazing python class.\n"
     ]
    }
   ],
   "source": [
    "print(\"Hello world , this is an amazing python class.\")"
   ]
  },
  {
   "cell_type": "code",
   "execution_count": 4,
   "id": "8b077552-e978-4502-b7e3-1f4b52ca3102",
   "metadata": {},
   "outputs": [
    {
     "name": "stdout",
     "output_type": "stream",
     "text": [
      "5\n"
     ]
    }
   ],
   "source": [
    "print(2+3)"
   ]
  },
  {
   "cell_type": "markdown",
   "id": "1bbd2a6a-7e39-446c-b0e9-c0704f6edfdc",
   "metadata": {},
   "source": [
    "# Python Comments"
   ]
  },
  {
   "cell_type": "markdown",
   "id": "d4d65f20-e416-4993-834b-bc49a57deba3",
   "metadata": {},
   "source": [
    "### Comments provide explanations for complex sections of code, making it easier for others (and yourself at a later date) to understand what the code is doing. They can clarify the purpose of certain variables, the logic behind a particular function, or the reason for a specific approach."
   ]
  },
  {
   "cell_type": "code",
   "execution_count": 6,
   "id": "ef76f60d-1c81-4704-a6da-c208b38d9664",
   "metadata": {},
   "outputs": [
    {
     "name": "stdout",
     "output_type": "stream",
     "text": [
      "Hello world\n"
     ]
    }
   ],
   "source": [
    "# this is comment.\n",
    "print(\"Hello world\")"
   ]
  },
  {
   "cell_type": "code",
   "execution_count": 7,
   "id": "0f6a4567-4dcf-4456-9509-14531ef2955d",
   "metadata": {},
   "outputs": [
    {
     "name": "stdout",
     "output_type": "stream",
     "text": [
      "Hello world\n"
     ]
    }
   ],
   "source": [
    "print(\"Hello world\") # this is comment."
   ]
  },
  {
   "cell_type": "markdown",
   "id": "654ccb0f-c7cc-46b0-967d-0bee9b40b156",
   "metadata": {},
   "source": [
    "# Multiline Comment"
   ]
  },
  {
   "cell_type": "code",
   "execution_count": 8,
   "id": "c479e751-9cfb-4040-808d-647045950da7",
   "metadata": {},
   "outputs": [
    {
     "name": "stdout",
     "output_type": "stream",
     "text": [
      "Hello world\n"
     ]
    }
   ],
   "source": [
    "# this is comment 1\n",
    "# this is comment 2\n",
    "# this is comment 3\n",
    "print(\"Hello world\")"
   ]
  },
  {
   "cell_type": "code",
   "execution_count": 9,
   "id": "d156a1c4-e4f4-4b28-a12d-91695aa5379d",
   "metadata": {},
   "outputs": [
    {
     "name": "stdout",
     "output_type": "stream",
     "text": [
      "Bye\n"
     ]
    }
   ],
   "source": [
    "\"\"\" This is our first Class of Python \"\"\"\n",
    "print(\"Bye\")"
   ]
  }
 ],
 "metadata": {
  "kernelspec": {
   "display_name": "Python 3 (ipykernel)",
   "language": "python",
   "name": "python3"
  },
  "language_info": {
   "codemirror_mode": {
    "name": "ipython",
    "version": 3
   },
   "file_extension": ".py",
   "mimetype": "text/x-python",
   "name": "python",
   "nbconvert_exporter": "python",
   "pygments_lexer": "ipython3",
   "version": "3.11.4"
  }
 },
 "nbformat": 4,
 "nbformat_minor": 5
}
