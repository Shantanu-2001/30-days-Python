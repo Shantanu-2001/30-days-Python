{
 "cells": [
  {
   "cell_type": "markdown",
   "id": "757e5cd7-5a3c-48bb-b8f8-2756d4d44c8b",
   "metadata": {},
   "source": [
    "# Day-4 (Control Flow Statement)"
   ]
  },
  {
   "cell_type": "markdown",
   "id": "edfb9428-97de-4c0a-9e9c-51dbb9321b33",
   "metadata": {},
   "source": [
    "#### Control flow statements are fundamental constructs in programming that dictate the flow of execution based on certain conditions or loops. They enable a program to make decisions and execute code blocks multiple times or under specific conditions. Here are the main types:"
   ]
  },
  {
   "cell_type": "markdown",
   "id": "3e26cdcf-7f85-4396-8b1a-e8788444b86b",
   "metadata": {},
   "source": [
    "# 1. If Statement"
   ]
  },
  {
   "cell_type": "markdown",
   "id": "7e2b6f86-5f13-41e2-8bcd-36b78b79fc34",
   "metadata": {},
   "source": [
    "#### Q. Write a program to calculate the percentage of a student in the Maths , Science , Social , Eng and Hindi ?"
   ]
  },
  {
   "cell_type": "code",
   "execution_count": 5,
   "id": "9fe51ae8-4aa6-4a27-8faa-a082512e7156",
   "metadata": {},
   "outputs": [
    {
     "name": "stdin",
     "output_type": "stream",
     "text": [
      "Enter the name of a Student Shantanu\n",
      "Enter the marks stored in English 89\n",
      "Enter the marks stored in Hindi 90\n",
      "Enter the marks stored in Maths 98\n",
      "Enter the marks stored in Science 95\n",
      "Enter the marks stored in Social 97\n"
     ]
    },
    {
     "name": "stdout",
     "output_type": "stream",
     "text": [
      "The percent scored by  Shantanu  is 93.8\n"
     ]
    }
   ],
   "source": [
    "x= input(\"Enter the name of a Student\")\n",
    "a= int(input(\"Enter the marks stored in English\"))\n",
    "b= int(input(\"Enter the marks stored in Hindi\"))\n",
    "c= int(input(\"Enter the marks stored in Maths\"))\n",
    "d= int(input(\"Enter the marks stored in Science\"))\n",
    "e= int(input(\"Enter the marks stored in Social\"))\n",
    "\n",
    "n= ((a+b+c+d+e)/500)*100 \n",
    "\n",
    "print(\"The percent scored by \",x,\" is\" , n)"
   ]
  },
  {
   "cell_type": "markdown",
   "id": "590aff4d-eb29-4864-9c0b-36176d78e363",
   "metadata": {},
   "source": [
    "#### Q. if percentage is above 90 - assign A grade\n",
    "####    if percentage is above 75 - assign B grade\n",
    "####    if percentage is above 65 - assign C grade"
   ]
  },
  {
   "cell_type": "code",
   "execution_count": 15,
   "id": "81833639-c85b-4d2b-8537-d0885ea7f630",
   "metadata": {},
   "outputs": [
    {
     "name": "stdin",
     "output_type": "stream",
     "text": [
      "Enter the percentage scored by a student 90\n"
     ]
    },
    {
     "name": "stdout",
     "output_type": "stream",
     "text": [
      " A grade \n"
     ]
    }
   ],
   "source": [
    "a = int(input(\"Enter the percentage scored by a student\"))\n",
    "\n",
    "if a>=90:\n",
    "    print(\" A grade \")\n",
    "if a>=75 and a<90:\n",
    "    print(\" B grade \")\n",
    "if a>=65 and a<75:\n",
    "    print(\" C grade \")"
   ]
  },
  {
   "cell_type": "markdown",
   "id": "130ced7b-e3b1-4ec1-89e0-de35fe200941",
   "metadata": {},
   "source": [
    "# 2. If else statement"
   ]
  },
  {
   "cell_type": "markdown",
   "id": "6416c027-8c21-4c87-899d-20111243781c",
   "metadata": {},
   "source": [
    "#### Q. Write a program to display hello if number entered by a user is a multile of 5 else print bye."
   ]
  },
  {
   "cell_type": "code",
   "execution_count": 17,
   "id": "1d315ca8-8f8f-489e-8f42-4c6b65884593",
   "metadata": {},
   "outputs": [
    {
     "name": "stdin",
     "output_type": "stream",
     "text": [
      "Enter the number 45\n"
     ]
    },
    {
     "name": "stdout",
     "output_type": "stream",
     "text": [
      "hello\n"
     ]
    }
   ],
   "source": [
    "a = int(input(\"Enter the number\"))\n",
    "if a%5==0:\n",
    "    print(\"hello\")\n",
    "else:\n",
    "    print(\"bye\")"
   ]
  },
  {
   "cell_type": "markdown",
   "id": "8a1db4a6-a697-4e67-a160-e44c19fc2409",
   "metadata": {},
   "source": [
    "#### Q. Write a program to display positive if number entered by a user is positive of else print negative."
   ]
  },
  {
   "cell_type": "code",
   "execution_count": 19,
   "id": "c75c78ff-220b-4f79-8dd2-8c49de10ec3a",
   "metadata": {},
   "outputs": [
    {
     "name": "stdin",
     "output_type": "stream",
     "text": [
      "Enter the number -1\n"
     ]
    },
    {
     "name": "stdout",
     "output_type": "stream",
     "text": [
      "Negative\n"
     ]
    }
   ],
   "source": [
    "a = int(input(\"Enter the number\"))\n",
    "if a>=0:\n",
    "    print(\"Positive\")\n",
    "else:\n",
    "    print(\"Negative\")"
   ]
  },
  {
   "cell_type": "markdown",
   "id": "1e6435d1-0db4-4e37-92c0-627b5470da8c",
   "metadata": {},
   "source": [
    "# 3. If-elif-else"
   ]
  },
  {
   "cell_type": "markdown",
   "id": "ded40117-230d-4544-ba3b-ea4aa10e5a1f",
   "metadata": {},
   "source": [
    "\n",
    "#### Q. Accept the city and print its monument\n",
    "#### Delhi - Red Fort\n",
    "#### Agra - Taj Mahal\n",
    "#### Jaipur - Jalmahal\n",
    "#### Orissa - Jagganath Temple \n",
    "#### Hyderabad - Charminar \n",
    "#### other - Record not found"
   ]
  },
  {
   "cell_type": "code",
   "execution_count": 27,
   "id": "89b9cbac-1c3f-424c-a952-062f23c8cfea",
   "metadata": {},
   "outputs": [
    {
     "name": "stdin",
     "output_type": "stream",
     "text": [
      "Enter the city Orissa\n"
     ]
    },
    {
     "name": "stdout",
     "output_type": "stream",
     "text": [
      "The monument in Orissa is Jagganath Temple. \n",
      " JAI JAGGANATH \n"
     ]
    }
   ],
   "source": [
    "city = input(\"Enter the city\")\n",
    "if city==\"Delhi\":\n",
    "    print(\"The monument in Delhi is RedFort. \")\n",
    "elif city==\"Agra\":\n",
    "    print(\"The monument in Agra is Taj Mahal. \")\n",
    "elif city==\"Jaipur\":\n",
    "    print(\"The monument in Jaipur is Jalmahal. \")\n",
    "elif city==\"Orissa\":\n",
    "    print(\"The monument in Orissa is Jagganath Temple. \")\n",
    "    print(\" JAI JAGGANATH \")\n",
    "elif city==\"Hyderabad\":\n",
    "    print(\"The monument in Hyderabad is Charminar. \")\n",
    "else:\n",
    "    print(\"No Record Found\")\n",
    "\n",
    "    "
   ]
  }
 ],
 "metadata": {
  "kernelspec": {
   "display_name": "Python 3 (ipykernel)",
   "language": "python",
   "name": "python3"
  },
  "language_info": {
   "codemirror_mode": {
    "name": "ipython",
    "version": 3
   },
   "file_extension": ".py",
   "mimetype": "text/x-python",
   "name": "python",
   "nbconvert_exporter": "python",
   "pygments_lexer": "ipython3",
   "version": "3.11.4"
  }
 },
 "nbformat": 4,
 "nbformat_minor": 5
}
